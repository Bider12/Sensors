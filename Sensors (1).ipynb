{
  "nbformat": 4,
  "nbformat_minor": 0,
  "metadata": {
    "colab": {
      "provenance": []
    },
    "kernelspec": {
      "name": "python3",
      "display_name": "Python 3"
    },
    "language_info": {
      "name": "python"
    }
  },
  "cells": [
    {
      "cell_type": "code",
      "execution_count": 1,
      "metadata": {
        "id": "vkIbwY4AudpP"
      },
      "outputs": [],
      "source": [
        "import pandas as pd\n",
        "import seaborn as sns\n",
        "import matplotlib.pyplot as plt\n",
        "import numpy as np\n",
        "\n",
        "from sklearn.preprocessing import StandardScaler\n",
        "from sklearn.model_selection import train_test_split, cross_val_predict, cross_validate\n",
        "from sklearn import metrics\n",
        "\n",
        "from collections import Counter\n",
        "from sklearn.linear_model import ElasticNet, LinearRegression, Ridge, Lasso, ElasticNet\n",
        "from sklearn.metrics import mean_squared_error\n",
        "from sklearn.model_selection import train_test_split, cross_val_score, KFold, GroupKFold, GroupShuffleSplit\n",
        "from sklearn.preprocessing import StandardScaler, MinMaxScaler\n",
        "from sklearn.svm import SVR, LinearSVR\n",
        "\n",
        "import warnings\n",
        "warnings.filterwarnings('ignore')"
      ]
    },
    {
      "cell_type": "code",
      "source": [
        "from google.colab import drive\n",
        "drive.mount(\"/content/drive/\")"
      ],
      "metadata": {
        "colab": {
          "base_uri": "https://localhost:8080/"
        },
        "id": "ethIuWktq_bE",
        "outputId": "04dd47b8-3e23-4b84-da73-1e08315b817f"
      },
      "execution_count": 2,
      "outputs": [
        {
          "output_type": "stream",
          "name": "stdout",
          "text": [
            "Mounted at /content/drive/\n"
          ]
        }
      ]
    },
    {
      "cell_type": "code",
      "source": [
        "import os\n",
        "path = \"/content/drive/MyDrive/sensor_dataset\" # /content is pretty much the root. you can choose other path in your colab workspace\n",
        "os.chdir(path)"
      ],
      "metadata": {
        "id": "U0TN0Sfvwm4F"
      },
      "execution_count": 3,
      "outputs": []
    },
    {
      "cell_type": "code",
      "source": [
        "!ls /content/drive/MyDrive/sensor_dataset"
      ],
      "metadata": {
        "colab": {
          "base_uri": "https://localhost:8080/"
        },
        "id": "RAv89NChxOLL",
        "outputId": "7412864e-6bff-4fef-96af-929b8c7bc283"
      },
      "execution_count": 4,
      "outputs": [
        {
          "output_type": "stream",
          "name": "stdout",
          "text": [
            "sensor01_air.txt\t  sensor05_air.txt\t    sensor09_air.txt\n",
            "sensor01_izopropanol.txt  sensor05_izopropanol.txt  sensor09_izopropanol.txt\n",
            "sensor01_water.txt\t  sensor05_water.txt\t    sensor09_water.txt\n",
            "sensor02_air.txt\t  sensor06_air.txt\t    sensor10_air.txt\n",
            "sensor02_izopropanol.txt  sensor06_izopropanol.txt  sensor10_izopropanol.txt\n",
            "sensor02_water.txt\t  sensor06_water.txt\t    sensor10_water.txt\n",
            "sensor03_air.txt\t  sensor07_air.txt\t    submission.csv\n",
            "sensor03_izopropanol.txt  sensor07_izopropanol.txt  xgb_submission.csv\n",
            "sensor03_water.txt\t  sensor07_water.txt\t    xgb_test.pickle\n",
            "sensor04_air.txt\t  sensor08_air.txt\t    xgb_train.pickle\n",
            "sensor04_izopropanol.txt  sensor08_izopropanol.txt\n",
            "sensor04_water.txt\t  sensor08_water.txt\n"
          ]
        }
      ]
    },
    {
      "cell_type": "code",
      "source": [
        "#Read the all files"
      ],
      "metadata": {
        "id": "11ccOYTxQ-r0"
      },
      "execution_count": 5,
      "outputs": []
    },
    {
      "cell_type": "code",
      "source": [
        "sensor01_air=pd.read_csv('sensor01_air.txt', sep=',', header=None, names=['Wavelength_air', 'Amplitude_air'])\n",
        "sensor01_izo=pd.read_csv('sensor01_izopropanol.txt', sep=',', header=None, names=['Wavelength_izo', 'Amplitude_izo'])\n",
        "sensor01_water=pd.read_csv('sensor01_water.txt', sep=',', header=None, names=['Wavelength_water', 'Amplitude_water'])\n",
        "sensor02_air=pd.read_csv('sensor02_air.txt', sep=',', header=None, names=['Wavelength_air', 'Amplitude_air'])\n",
        "sensor02_izo=pd.read_csv('sensor02_izopropanol.txt', sep=',', header=None, names=['Wavelength_izo', 'Amplitude_izo'])\n",
        "sensor02_water=pd.read_csv('sensor02_water.txt', sep=',', header=None, names=['Wavelength_water', 'Amplitude_water'])\n",
        "sensor03_air=pd.read_csv('sensor03_air.txt', sep=',', header=None, names=['Wavelength_air', 'Amplitude_air'])\n",
        "sensor03_izo=pd.read_csv('sensor03_izopropanol.txt', sep=',', header=None, names=['Wavelength_izo', 'Amplitude_izo'])\n",
        "sensor03_water=pd.read_csv('sensor03_water.txt', sep=',', header=None, names=['Wavelength_water', 'Amplitude_water'])\n",
        "sensor04_air=pd.read_csv('sensor04_air.txt', sep=',', header=None, names=['Wavelength_air', 'Amplitude_air'])\n",
        "sensor04_izo=pd.read_csv('sensor04_izopropanol.txt', sep=',', header=None, names=['Wavelength_izo', 'Amplitude_izo'])\n",
        "sensor04_water=pd.read_csv('sensor04_water.txt', sep=',', header=None, names=['Wavelength_water', 'Amplitude_water'])\n",
        "sensor05_air=pd.read_csv('sensor05_air.txt', sep=',', header=None, names=['Wavelength_air', 'Amplitude_air'])\n",
        "sensor05_izo=pd.read_csv('sensor05_izopropanol.txt', sep=',', header=None, names=['Wavelength_izo', 'Amplitude_izo'])\n",
        "sensor05_water=pd.read_csv('sensor05_water.txt', sep=',', header=None, names=['Wavelength_water', 'Amplitude_water'])\n",
        "sensor06_air=pd.read_csv('sensor06_air.txt', sep=',', header=None, names=['Wavelength_air', 'Amplitude_air'])\n",
        "sensor06_izo=pd.read_csv('sensor06_izopropanol.txt', sep=',', header=None, names=['Wavelength_izo', 'Amplitude_izo'])\n",
        "sensor06_water=pd.read_csv('sensor06_water.txt', sep=',', header=None, names=['Wavelength_water', 'Amplitude_water'])\n",
        "sensor07_air=pd.read_csv('sensor07_air.txt', sep=',', header=None, names=['Wavelength_air', 'Amplitude_air'])\n",
        "sensor07_izo=pd.read_csv('sensor07_izopropanol.txt', sep=',', header=None, names=['Wavelength_izo', 'Amplitude_izo'])\n",
        "sensor07_water=pd.read_csv('sensor07_water.txt', sep=',', header=None, names=['Wavelength_water', 'Amplitude_water'])\n",
        "sensor08_air=pd.read_csv('sensor08_air.txt', sep=',', header=None, names=['Wavelength_air', 'Amplitude_air'])\n",
        "sensor08_izo=pd.read_csv('sensor08_izopropanol.txt', sep=',', header=None, names=['Wavelength_izo', 'Amplitude_izo'])\n",
        "sensor08_water=pd.read_csv('sensor08_water.txt', sep=',', header=None, names=['Wavelength_water', 'Amplitude_water'])\n",
        "sensor09_air=pd.read_csv('sensor09_air.txt', sep=',', header=None, names=['Wavelength_air', 'Amplitude_air'])\n",
        "sensor09_izo=pd.read_csv('sensor09_izopropanol.txt', sep=',', header=None, names=['Wavelength_izo', 'Amplitude_izo'])\n",
        "sensor09_water=pd.read_csv('sensor09_water.txt', sep=',', header=None, names=['Wavelength_water', 'Amplitude_water'])\n",
        "sensor10_air=pd.read_csv('sensor10_air.txt', sep=',', header=None, names=['Wavelength_air', 'Amplitude_air'])\n",
        "sensor10_izo=pd.read_csv('sensor10_izopropanol.txt', sep=',', header=None, names=['Wavelength_izo', 'Amplitude_izo'])\n",
        "sensor10_water=pd.read_csv('sensor10_water.txt', sep=',', header=None, names=['Wavelength_water', 'Amplitude_water'])"
      ],
      "metadata": {
        "id": "Pk9vg09rvAY_"
      },
      "execution_count": 6,
      "outputs": []
    },
    {
      "cell_type": "code",
      "source": [
        "#Plot contains one sensor in air, water and iso\n",
        "plt.rcParams[\"figure.figsize\"] = [10.50, 4.50]\n",
        "plt.rcParams[\"figure.autolayout\"] = True\n",
        "plt.subplot(111)\n",
        "plt.plot(sensor01_air.Wavelength_air, sensor01_air.Amplitude_air, color='red', lw=3)\n",
        "plt.plot(sensor01_izo.Wavelength_izo, sensor01_izo.Amplitude_izo, color='orange', lw=3)\n",
        "plt.plot(sensor01_water.Wavelength_water, sensor01_water.Amplitude_water, color='blue', lw=3)"
      ],
      "metadata": {
        "colab": {
          "base_uri": "https://localhost:8080/",
          "height": 350
        },
        "id": "EplhLMXBotTL",
        "outputId": "28204d8b-ff01-40f1-ea8c-f3e1d9bd252b"
      },
      "execution_count": 7,
      "outputs": [
        {
          "output_type": "execute_result",
          "data": {
            "text/plain": [
              "[<matplotlib.lines.Line2D at 0x7f62ea649ee0>]"
            ]
          },
          "metadata": {},
          "execution_count": 7
        },
        {
          "output_type": "display_data",
          "data": {
            "text/plain": [
              "<Figure size 756x324 with 1 Axes>"
            ],
            "image/png": "[encoded data removed]"
          },
          "metadata": {
            "needs_background": "light"
          }
        }
      ]
    },
    {
      "cell_type": "code",
      "source": [
        "#Join and merge all files to one"
      ],
      "metadata": {
        "id": "TJFDDrGpRfKN"
      },
      "execution_count": 8,
      "outputs": []
    },
    {
      "cell_type": "code",
      "source": [
        "all_air = pd.concat([sensor01_air, sensor02_air, sensor03_air, sensor04_air, sensor05_air, sensor06_air, sensor07_air, sensor08_air, sensor09_air, sensor10_air], axis=0, ignore_index=True)"
      ],
      "metadata": {
        "id": "QLAEgkpnN6A_"
      },
      "execution_count": 9,
      "outputs": []
    },
    {
      "cell_type": "code",
      "source": [
        "all_air"
      ],
      "metadata": {
        "colab": {
          "base_uri": "https://localhost:8080/",
          "height": 424
        },
        "id": "dAfjGKK_Qg9E",
        "outputId": "58446639-f65e-45be-9e16-3d68025fc723"
      },
      "execution_count": 10,
      "outputs": [
        {
          "output_type": "execute_result",
          "data": {
            "text/plain": [
              "       Wavelength_air  Amplitude_air\n",
              "0            0.000001         9.1792\n",
              "1            0.000001         9.2003\n",
              "2            0.000001         9.1968\n",
              "3            0.000001         9.1028\n",
              "4            0.000001         9.0601\n",
              "...               ...            ...\n",
              "30005        0.000002         3.2784\n",
              "30006        0.000002         3.4213\n",
              "30007        0.000002         3.3112\n",
              "30008        0.000002         3.4500\n",
              "30009        0.000002         3.6370\n",
              "\n",
              "[30010 rows x 2 columns]"
            ],
            "text/html": [
              "\n",
              "  <div id=\"df-aa5d300b-1d1a-48dc-9e9b-a8a35f1a5731\">\n",
              "    <div class=\"colab-df-container\">\n",
              "      <div>\n",
              "<style scoped>\n",
              "    .dataframe tbody tr th:only-of-type {\n",
              "        vertical-align: middle;\n",
              "    }\n",
              "\n",
              "    .dataframe tbody tr th {\n",
              "        vertical-align: top;\n",
              "    }\n",
              "\n",
              "    .dataframe thead th {\n",
              "        text-align: right;\n",
              "    }\n",
              "</style>\n",
              "<table border=\"1\" class=\"dataframe\">\n",
              "  <thead>\n",
              "    <tr style=\"text-align: right;\">\n",
              "      <th></th>\n",
              "      <th>Wavelength_air</th>\n",
              "      <th>Amplitude_air</th>\n",
              "    </tr>\n",
              "  </thead>\n",
              "  <tbody>\n",
              "    <tr>\n",
              "      <th>0</th>\n",
              "      <td>0.000001</td>\n",
              "      <td>9.1792</td>\n",
              "    </tr>\n",
              "    <tr>\n",
              "      <th>1</th>\n",
              "      <td>0.000001</td>\n",
              "      <td>9.2003</td>\n",
              "    </tr>\n",
              "    <tr>\n",
              "      <th>2</th>\n",
              "      <td>0.000001</td>\n",
              "      <td>9.1968</td>\n",
              "    </tr>\n",
              "    <tr>\n",
              "      <th>3</th>\n",
              "      <td>0.000001</td>\n",
              "      <td>9.1028</td>\n",
              "    </tr>\n",
              "    <tr>\n",
              "      <th>4</th>\n",
              "      <td>0.000001</td>\n",
              "      <td>9.0601</td>\n",
              "    </tr>\n",
              "    <tr>\n",
              "      <th>...</th>\n",
              "      <td>...</td>\n",
              "      <td>...</td>\n",
              "    </tr>\n",
              "    <tr>\n",
              "      <th>30005</th>\n",
              "      <td>0.000002</td>\n",
              "      <td>3.2784</td>\n",
              "    </tr>\n",
              "    <tr>\n",
              "      <th>30006</th>\n",
              "      <td>0.000002</td>\n",
              "      <td>3.4213</td>\n",
              "    </tr>\n",
              "    <tr>\n",
              "      <th>30007</th>\n",
              "      <td>0.000002</td>\n",
              "      <td>3.3112</td>\n",
              "    </tr>\n",
              "    <tr>\n",
              "      <th>30008</th>\n",
              "      <td>0.000002</td>\n",
              "      <td>3.4500</td>\n",
              "    </tr>\n",
              "    <tr>\n",
              "      <th>30009</th>\n",
              "      <td>0.000002</td>\n",
              "      <td>3.6370</td>\n",
              "    </tr>\n",
              "  </tbody>\n",
              "</table>\n",
              "<p>30010 rows × 2 columns</p>\n",
              "</div>\n",
              "      <button class=\"colab-df-convert\" onclick=\"convertToInteractive('df-aa5d300b-1d1a-48dc-9e9b-a8a35f1a5731')\"\n",
              "              title=\"Convert this dataframe to an interactive table.\"\n",
              "              style=\"display:none;\">\n",
              "        \n",
              "  <svg xmlns=\"http://www.w3.org/2000/svg\" height=\"24px\"viewBox=\"0 0 24 24\"\n",
              "       width=\"24px\">\n",
              "    <path d=\"M0 0h24v24H0V0z\" fill=\"none\"/>\n",
              "    <path d=\"M18.56 5.44l.94 2.06.94-2.06 2.06-.94-2.06-.94-.94-2.06-.94 2.06-2.06.94zm-11 1L8.5 8.5l.94-2.06 2.06-.94-2.06-.94L8.5 2.5l-.94 2.06-2.06.94zm10 10l.94 2.06.94-2.06 2.06-.94-2.06-.94-.94-2.06-.94 2.06-2.06.94z\"/><path d=\"M17.41 7.96l-1.37-1.37c-.4-.4-.92-.59-1.43-.59-.52 0-1.04.2-1.43.59L10.3 9.45l-7.72 7.72c-.78.78-.78 2.05 0 2.83L4 21.41c.39.39.9.59 1.41.59.51 0 1.02-.2 1.41-.59l7.78-7.78 2.81-2.81c.8-.78.8-2.07 0-2.86zM5.41 20L4 18.59l7.72-7.72 1.47 1.35L5.41 20z\"/>\n",
              "  </svg>\n",
              "      </button>\n",
              "      \n",
              "  <style>\n",
              "    .colab-df-container {\n",
              "      display:flex;\n",
              "      flex-wrap:wrap;\n",
              "      gap: 12px;\n",
              "    }\n",
              "\n",
              "    .colab-df-convert {\n",
              "      background-color: #E8F0FE;\n",
              "      border: none;\n",
              "      border-radius: 50%;\n",
              "      cursor: pointer;\n",
              "      display: none;\n",
              "      fill: #1967D2;\n",
              "      height: 32px;\n",
              "      padding: 0 0 0 0;\n",
              "      width: 32px;\n",
              "    }\n",
              "\n",
              "    .colab-df-convert:hover {\n",
              "      background-color: #E2EBFA;\n",
              "      box-shadow: 0px 1px 2px rgba(60, 64, 67, 0.3), 0px 1px 3px 1px rgba(60, 64, 67, 0.15);\n",
              "      fill: #174EA6;\n",
              "    }\n",
              "\n",
              "    [theme=dark] .colab-df-convert {\n",
              "      background-color: #3B4455;\n",
              "      fill: #D2E3FC;\n",
              "    }\n",
              "\n",
              "    [theme=dark] .colab-df-convert:hover {\n",
              "      background-color: #434B5C;\n",
              "      box-shadow: 0px 1px 3px 1px rgba(0, 0, 0, 0.15);\n",
              "      filter: drop-shadow(0px 1px 2px rgba(0, 0, 0, 0.3));\n",
              "      fill: #FFFFFF;\n",
              "    }\n",
              "  </style>\n",
              "\n",
              "      <script>\n",
              "        const buttonEl =\n",
              "          document.querySelector('#df-aa5d300b-1d1a-48dc-9e9b-a8a35f1a5731 button.colab-df-convert');\n",
              "        buttonEl.style.display =\n",
              "          google.colab.kernel.accessAllowed ? 'block' : 'none';\n",
              "\n",
              "        async function convertToInteractive(key) {\n",
              "          const element = document.querySelector('#df-aa5d300b-1d1a-48dc-9e9b-a8a35f1a5731');\n",
              "          const dataTable =\n",
              "            await google.colab.kernel.invokeFunction('convertToInteractive',\n",
              "                                                     [key], {});\n",
              "          if (!dataTable) return;\n",
              "\n",
              "          const docLinkHtml = 'Like what you see? Visit the ' +\n",
              "            '<a target=\"_blank\" href=https://colab.research.google.com/notebooks/data_table.ipynb>data table notebook</a>'\n",
              "            + ' to learn more about interactive tables.';\n",
              "          element.innerHTML = '';\n",
              "          dataTable['output_type'] = 'display_data';\n",
              "          await google.colab.output.renderOutput(dataTable, element);\n",
              "          const docLink = document.createElement('div');\n",
              "          docLink.innerHTML = docLinkHtml;\n",
              "          element.appendChild(docLink);\n",
              "        }\n",
              "      </script>\n",
              "    </div>\n",
              "  </div>\n",
              "  "
            ]
          },
          "metadata": {},
          "execution_count": 10
        }
      ]
    },
    {
      "cell_type": "code",
      "source": [
        "all_izo = pd.concat([sensor01_izo, sensor02_izo, sensor03_izo, sensor04_izo, sensor05_izo, sensor06_izo, sensor07_izo, sensor08_izo, sensor09_izo, sensor10_izo], axis=0, ignore_index=True)"
      ],
      "metadata": {
        "id": "fDC9BUHlWPNc"
      },
      "execution_count": 11,
      "outputs": []
    },
    {
      "cell_type": "code",
      "source": [
        "all_izo"
      ],
      "metadata": {
        "colab": {
          "base_uri": "https://localhost:8080/",
          "height": 424
        },
        "id": "OkONtEnKWbwI",
        "outputId": "98c0be8c-2af3-4473-bec8-79b54a267640"
      },
      "execution_count": 12,
      "outputs": [
        {
          "output_type": "execute_result",
          "data": {
            "text/plain": [
              "       Wavelength_izo  Amplitude_izo\n",
              "0            0.000001        8.55510\n",
              "1            0.000001        8.67500\n",
              "2            0.000001        8.71160\n",
              "3            0.000001        8.71570\n",
              "4            0.000001        8.67920\n",
              "...               ...            ...\n",
              "30005        0.000002       -0.61478\n",
              "30006        0.000002       -0.53629\n",
              "30007        0.000002       -0.81838\n",
              "30008        0.000002       -0.57202\n",
              "30009        0.000002       -0.42871\n",
              "\n",
              "[30010 rows x 2 columns]"
            ],
            "text/html": [
              "\n",
              "  <div id=\"df-5fa8d5ca-becb-4a8a-8bd3-488da12a0b84\">\n",
              "    <div class=\"colab-df-container\">\n",
              "      <div>\n",
              "<style scoped>\n",
              "    .dataframe tbody tr th:only-of-type {\n",
              "        vertical-align: middle;\n",
              "    }\n",
              "\n",
              "    .dataframe tbody tr th {\n",
              "        vertical-align: top;\n",
              "    }\n",
              "\n",
              "    .dataframe thead th {\n",
              "        text-align: right;\n",
              "    }\n",
              "</style>\n",
              "<table border=\"1\" class=\"dataframe\">\n",
              "  <thead>\n",
              "    <tr style=\"text-align: right;\">\n",
              "      <th></th>\n",
              "      <th>Wavelength_izo</th>\n",
              "      <th>Amplitude_izo</th>\n",
              "    </tr>\n",
              "  </thead>\n",
              "  <tbody>\n",
              "    <tr>\n",
              "      <th>0</th>\n",
              "      <td>0.000001</td>\n",
              "      <td>8.55510</td>\n",
              "    </tr>\n",
              "    <tr>\n",
              "      <th>1</th>\n",
              "      <td>0.000001</td>\n",
              "      <td>8.67500</td>\n",
              "    </tr>\n",
              "    <tr>\n",
              "      <th>2</th>\n",
              "      <td>0.000001</td>\n",
              "      <td>8.71160</td>\n",
              "    </tr>\n",
              "    <tr>\n",
              "      <th>3</th>\n",
              "      <td>0.000001</td>\n",
              "      <td>8.71570</td>\n",
              "    </tr>\n",
              "    <tr>\n",
              "      <th>4</th>\n",
              "      <td>0.000001</td>\n",
              "      <td>8.67920</td>\n",
              "    </tr>\n",
              "    <tr>\n",
              "      <th>...</th>\n",
              "      <td>...</td>\n",
              "      <td>...</td>\n",
              "    </tr>\n",
              "    <tr>\n",
              "      <th>30005</th>\n",
              "      <td>0.000002</td>\n",
              "      <td>-0.61478</td>\n",
              "    </tr>\n",
              "    <tr>\n",
              "      <th>30006</th>\n",
              "      <td>0.000002</td>\n",
              "      <td>-0.53629</td>\n",
              "    </tr>\n",
              "    <tr>\n",
              "      <th>30007</th>\n",
              "      <td>0.000002</td>\n",
              "      <td>-0.81838</td>\n",
              "    </tr>\n",
              "    <tr>\n",
              "      <th>30008</th>\n",
              "      <td>0.000002</td>\n",
              "      <td>-0.57202</td>\n",
              "    </tr>\n",
              "    <tr>\n",
              "      <th>30009</th>\n",
              "      <td>0.000002</td>\n",
              "      <td>-0.42871</td>\n",
              "    </tr>\n",
              "  </tbody>\n",
              "</table>\n",
              "<p>30010 rows × 2 columns</p>\n",
              "</div>\n",
              "      <button class=\"colab-df-convert\" onclick=\"convertToInteractive('df-5fa8d5ca-becb-4a8a-8bd3-488da12a0b84')\"\n",
              "              title=\"Convert this dataframe to an interactive table.\"\n",
              "              style=\"display:none;\">\n",
              "        \n",
              "  <svg xmlns=\"http://www.w3.org/2000/svg\" height=\"24px\"viewBox=\"0 0 24 24\"\n",
              "       width=\"24px\">\n",
              "    <path d=\"M0 0h24v24H0V0z\" fill=\"none\"/>\n",
              "    <path d=\"M18.56 5.44l.94 2.06.94-2.06 2.06-.94-2.06-.94-.94-2.06-.94 2.06-2.06.94zm-11 1L8.5 8.5l.94-2.06 2.06-.94-2.06-.94L8.5 2.5l-.94 2.06-2.06.94zm10 10l.94 2.06.94-2.06 2.06-.94-2.06-.94-.94-2.06-.94 2.06-2.06.94z\"/><path d=\"M17.41 7.96l-1.37-1.37c-.4-.4-.92-.59-1.43-.59-.52 0-1.04.2-1.43.59L10.3 9.45l-7.72 7.72c-.78.78-.78 2.05 0 2.83L4 21.41c.39.39.9.59 1.41.59.51 0 1.02-.2 1.41-.59l7.78-7.78 2.81-2.81c.8-.78.8-2.07 0-2.86zM5.41 20L4 18.59l7.72-7.72 1.47 1.35L5.41 20z\"/>\n",
              "  </svg>\n",
              "      </button>\n",
              "      \n",
              "  <style>\n",
              "    .colab-df-container {\n",
              "      display:flex;\n",
              "      flex-wrap:wrap;\n",
              "      gap: 12px;\n",
              "    }\n",
              "\n",
              "    .colab-df-convert {\n",
              "      background-color: #E8F0FE;\n",
              "      border: none;\n",
              "      border-radius: 50%;\n",
              "      cursor: pointer;\n",
              "      display: none;\n",
              "      fill: #1967D2;\n",
              "      height: 32px;\n",
              "      padding: 0 0 0 0;\n",
              "      width: 32px;\n",
              "    }\n",
              "\n",
              "    .colab-df-convert:hover {\n",
              "      background-color: #E2EBFA;\n",
              "      box-shadow: 0px 1px 2px rgba(60, 64, 67, 0.3), 0px 1px 3px 1px rgba(60, 64, 67, 0.15);\n",
              "      fill: #174EA6;\n",
              "    }\n",
              "\n",
              "    [theme=dark] .colab-df-convert {\n",
              "      background-color: #3B4455;\n",
              "      fill: #D2E3FC;\n",
              "    }\n",
              "\n",
              "    [theme=dark] .colab-df-convert:hover {\n",
              "      background-color: #434B5C;\n",
              "      box-shadow: 0px 1px 3px 1px rgba(0, 0, 0, 0.15);\n",
              "      filter: drop-shadow(0px 1px 2px rgba(0, 0, 0, 0.3));\n",
              "      fill: #FFFFFF;\n",
              "    }\n",
              "  </style>\n",
              "\n",
              "      <script>\n",
              "        const buttonEl =\n",
              "          document.querySelector('#df-5fa8d5ca-becb-4a8a-8bd3-488da12a0b84 button.colab-df-convert');\n",
              "        buttonEl.style.display =\n",
              "          google.colab.kernel.accessAllowed ? 'block' : 'none';\n",
              "\n",
              "        async function convertToInteractive(key) {\n",
              "          const element = document.querySelector('#df-5fa8d5ca-becb-4a8a-8bd3-488da12a0b84');\n",
              "          const dataTable =\n",
              "            await google.colab.kernel.invokeFunction('convertToInteractive',\n",
              "                                                     [key], {});\n",
              "          if (!dataTable) return;\n",
              "\n",
              "          const docLinkHtml = 'Like what you see? Visit the ' +\n",
              "            '<a target=\"_blank\" href=https://colab.research.google.com/notebooks/data_table.ipynb>data table notebook</a>'\n",
              "            + ' to learn more about interactive tables.';\n",
              "          element.innerHTML = '';\n",
              "          dataTable['output_type'] = 'display_data';\n",
              "          await google.colab.output.renderOutput(dataTable, element);\n",
              "          const docLink = document.createElement('div');\n",
              "          docLink.innerHTML = docLinkHtml;\n",
              "          element.appendChild(docLink);\n",
              "        }\n",
              "      </script>\n",
              "    </div>\n",
              "  </div>\n",
              "  "
            ]
          },
          "metadata": {},
          "execution_count": 12
        }
      ]
    },
    {
      "cell_type": "code",
      "source": [
        "all_water = pd.concat([sensor01_water, sensor02_water, sensor03_water, sensor04_water, sensor05_water, sensor06_water, sensor07_water, sensor08_water, sensor09_water, sensor10_water], axis=0, ignore_index=True)"
      ],
      "metadata": {
        "id": "tNYwrat5WfOc"
      },
      "execution_count": 13,
      "outputs": []
    },
    {
      "cell_type": "code",
      "source": [
        "all_water"
      ],
      "metadata": {
        "colab": {
          "base_uri": "https://localhost:8080/",
          "height": 424
        },
        "id": "X7K1cCU2WrZC",
        "outputId": "222f6e26-561b-4137-87d4-03b28359cbc1"
      },
      "execution_count": 14,
      "outputs": [
        {
          "output_type": "execute_result",
          "data": {
            "text/plain": [
              "       Wavelength_water  Amplitude_water\n",
              "0              0.000001          8.35700\n",
              "1              0.000001          8.42870\n",
              "2              0.000001          8.44220\n",
              "3              0.000001          8.41440\n",
              "4              0.000001          8.40340\n",
              "...                 ...              ...\n",
              "30005          0.000002         -0.86565\n",
              "30006          0.000002         -0.84435\n",
              "30007          0.000002         -0.97383\n",
              "30008          0.000002         -0.63849\n",
              "30009          0.000002         -0.75215\n",
              "\n",
              "[30010 rows x 2 columns]"
            ],
            "text/html": [
              "\n",
              "  <div id=\"df-1d97797c-491d-4f42-b2bd-389aa3642676\">\n",
              "    <div class=\"colab-df-container\">\n",
              "      <div>\n",
              "<style scoped>\n",
              "    .dataframe tbody tr th:only-of-type {\n",
              "        vertical-align: middle;\n",
              "    }\n",
              "\n",
              "    .dataframe tbody tr th {\n",
              "        vertical-align: top;\n",
              "    }\n",
              "\n",
              "    .dataframe thead th {\n",
              "        text-align: right;\n",
              "    }\n",
              "</style>\n",
              "<table border=\"1\" class=\"dataframe\">\n",
              "  <thead>\n",
              "    <tr style=\"text-align: right;\">\n",
              "      <th></th>\n",
              "      <th>Wavelength_water</th>\n",
              "      <th>Amplitude_water</th>\n",
              "    </tr>\n",
              "  </thead>\n",
              "  <tbody>\n",
              "    <tr>\n",
              "      <th>0</th>\n",
              "      <td>0.000001</td>\n",
              "      <td>8.35700</td>\n",
              "    </tr>\n",
              "    <tr>\n",
              "      <th>1</th>\n",
              "      <td>0.000001</td>\n",
              "      <td>8.42870</td>\n",
              "    </tr>\n",
              "    <tr>\n",
              "      <th>2</th>\n",
              "      <td>0.000001</td>\n",
              "      <td>8.44220</td>\n",
              "    </tr>\n",
              "    <tr>\n",
              "      <th>3</th>\n",
              "      <td>0.000001</td>\n",
              "      <td>8.41440</td>\n",
              "    </tr>\n",
              "    <tr>\n",
              "      <th>4</th>\n",
              "      <td>0.000001</td>\n",
              "      <td>8.40340</td>\n",
              "    </tr>\n",
              "    <tr>\n",
              "      <th>...</th>\n",
              "      <td>...</td>\n",
              "      <td>...</td>\n",
              "    </tr>\n",
              "    <tr>\n",
              "      <th>30005</th>\n",
              "      <td>0.000002</td>\n",
              "      <td>-0.86565</td>\n",
              "    </tr>\n",
              "    <tr>\n",
              "      <th>30006</th>\n",
              "      <td>0.000002</td>\n",
              "      <td>-0.84435</td>\n",
              "    </tr>\n",
              "    <tr>\n",
              "      <th>30007</th>\n",
              "      <td>0.000002</td>\n",
              "      <td>-0.97383</td>\n",
              "    </tr>\n",
              "    <tr>\n",
              "      <th>30008</th>\n",
              "      <td>0.000002</td>\n",
              "      <td>-0.63849</td>\n",
              "    </tr>\n",
              "    <tr>\n",
              "      <th>30009</th>\n",
              "      <td>0.000002</td>\n",
              "      <td>-0.75215</td>\n",
              "    </tr>\n",
              "  </tbody>\n",
              "</table>\n",
              "<p>30010 rows × 2 columns</p>\n",
              "</div>\n",
              "      <button class=\"colab-df-convert\" onclick=\"convertToInteractive('df-1d97797c-491d-4f42-b2bd-389aa3642676')\"\n",
              "              title=\"Convert this dataframe to an interactive table.\"\n",
              "              style=\"display:none;\">\n",
              "        \n",
              "  <svg xmlns=\"http://www.w3.org/2000/svg\" height=\"24px\"viewBox=\"0 0 24 24\"\n",
              "       width=\"24px\">\n",
              "    <path d=\"M0 0h24v24H0V0z\" fill=\"none\"/>\n",
              "    <path d=\"M18.56 5.44l.94 2.06.94-2.06 2.06-.94-2.06-.94-.94-2.06-.94 2.06-2.06.94zm-11 1L8.5 8.5l.94-2.06 2.06-.94-2.06-.94L8.5 2.5l-.94 2.06-2.06.94zm10 10l.94 2.06.94-2.06 2.06-.94-2.06-.94-.94-2.06-.94 2.06-2.06.94z\"/><path d=\"M17.41 7.96l-1.37-1.37c-.4-.4-.92-.59-1.43-.59-.52 0-1.04.2-1.43.59L10.3 9.45l-7.72 7.72c-.78.78-.78 2.05 0 2.83L4 21.41c.39.39.9.59 1.41.59.51 0 1.02-.2 1.41-.59l7.78-7.78 2.81-2.81c.8-.78.8-2.07 0-2.86zM5.41 20L4 18.59l7.72-7.72 1.47 1.35L5.41 20z\"/>\n",
              "  </svg>\n",
              "      </button>\n",
              "      \n",
              "  <style>\n",
              "    .colab-df-container {\n",
              "      display:flex;\n",
              "      flex-wrap:wrap;\n",
              "      gap: 12px;\n",
              "    }\n",
              "\n",
              "    .colab-df-convert {\n",
              "      background-color: #E8F0FE;\n",
              "      border: none;\n",
              "      border-radius: 50%;\n",
              "      cursor: pointer;\n",
              "      display: none;\n",
              "      fill: #1967D2;\n",
              "      height: 32px;\n",
              "      padding: 0 0 0 0;\n",
              "      width: 32px;\n",
              "    }\n",
              "\n",
              "    .colab-df-convert:hover {\n",
              "      background-color: #E2EBFA;\n",
              "      box-shadow: 0px 1px 2px rgba(60, 64, 67, 0.3), 0px 1px 3px 1px rgba(60, 64, 67, 0.15);\n",
              "      fill: #174EA6;\n",
              "    }\n",
              "\n",
              "    [theme=dark] .colab-df-convert {\n",
              "      background-color: #3B4455;\n",
              "      fill: #D2E3FC;\n",
              "    }\n",
              "\n",
              "    [theme=dark] .colab-df-convert:hover {\n",
              "      background-color: #434B5C;\n",
              "      box-shadow: 0px 1px 3px 1px rgba(0, 0, 0, 0.15);\n",
              "      filter: drop-shadow(0px 1px 2px rgba(0, 0, 0, 0.3));\n",
              "      fill: #FFFFFF;\n",
              "    }\n",
              "  </style>\n",
              "\n",
              "      <script>\n",
              "        const buttonEl =\n",
              "          document.querySelector('#df-1d97797c-491d-4f42-b2bd-389aa3642676 button.colab-df-convert');\n",
              "        buttonEl.style.display =\n",
              "          google.colab.kernel.accessAllowed ? 'block' : 'none';\n",
              "\n",
              "        async function convertToInteractive(key) {\n",
              "          const element = document.querySelector('#df-1d97797c-491d-4f42-b2bd-389aa3642676');\n",
              "          const dataTable =\n",
              "            await google.colab.kernel.invokeFunction('convertToInteractive',\n",
              "                                                     [key], {});\n",
              "          if (!dataTable) return;\n",
              "\n",
              "          const docLinkHtml = 'Like what you see? Visit the ' +\n",
              "            '<a target=\"_blank\" href=https://colab.research.google.com/notebooks/data_table.ipynb>data table notebook</a>'\n",
              "            + ' to learn more about interactive tables.';\n",
              "          element.innerHTML = '';\n",
              "          dataTable['output_type'] = 'display_data';\n",
              "          await google.colab.output.renderOutput(dataTable, element);\n",
              "          const docLink = document.createElement('div');\n",
              "          docLink.innerHTML = docLinkHtml;\n",
              "          element.appendChild(docLink);\n",
              "        }\n",
              "      </script>\n",
              "    </div>\n",
              "  </div>\n",
              "  "
            ]
          },
          "metadata": {},
          "execution_count": 14
        }
      ]
    },
    {
      "cell_type": "code",
      "source": [
        "data = all_air.join(all_izo, on=None, how='left')"
      ],
      "metadata": {
        "id": "4UZLvd-mLSxB"
      },
      "execution_count": 15,
      "outputs": []
    },
    {
      "cell_type": "code",
      "source": [
        "data = data.join(all_water, on=None, how='left')"
      ],
      "metadata": {
        "id": "-EvmCDkVME0E"
      },
      "execution_count": 16,
      "outputs": []
    },
    {
      "cell_type": "code",
      "source": [
        "data"
      ],
      "metadata": {
        "colab": {
          "base_uri": "https://localhost:8080/",
          "height": 424
        },
        "id": "_QbJTAQQMLvt",
        "outputId": "979fb09e-16b0-4ad6-f39a-86bd0f207f75"
      },
      "execution_count": 17,
      "outputs": [
        {
          "output_type": "execute_result",
          "data": {
            "text/plain": [
              "       Wavelength_air  Amplitude_air  Wavelength_izo  Amplitude_izo  \\\n",
              "0            0.000001         9.1792        0.000001        8.55510   \n",
              "1            0.000001         9.2003        0.000001        8.67500   \n",
              "2            0.000001         9.1968        0.000001        8.71160   \n",
              "3            0.000001         9.1028        0.000001        8.71570   \n",
              "4            0.000001         9.0601        0.000001        8.67920   \n",
              "...               ...            ...             ...            ...   \n",
              "30005        0.000002         3.2784        0.000002       -0.61478   \n",
              "30006        0.000002         3.4213        0.000002       -0.53629   \n",
              "30007        0.000002         3.3112        0.000002       -0.81838   \n",
              "30008        0.000002         3.4500        0.000002       -0.57202   \n",
              "30009        0.000002         3.6370        0.000002       -0.42871   \n",
              "\n",
              "       Wavelength_water  Amplitude_water  \n",
              "0              0.000001          8.35700  \n",
              "1              0.000001          8.42870  \n",
              "2              0.000001          8.44220  \n",
              "3              0.000001          8.41440  \n",
              "4              0.000001          8.40340  \n",
              "...                 ...              ...  \n",
              "30005          0.000002         -0.86565  \n",
              "30006          0.000002         -0.84435  \n",
              "30007          0.000002         -0.97383  \n",
              "30008          0.000002         -0.63849  \n",
              "30009          0.000002         -0.75215  \n",
              "\n",
              "[30010 rows x 6 columns]"
            ],
            "text/html": [
              "\n",
              "  <div id=\"df-ad88d3ae-9f60-4e9e-8591-6af616ba914f\">\n",
              "    <div class=\"colab-df-container\">\n",
              "      <div>\n",
              "<style scoped>\n",
              "    .dataframe tbody tr th:only-of-type {\n",
              "        vertical-align: middle;\n",
              "    }\n",
              "\n",
              "    .dataframe tbody tr th {\n",
              "        vertical-align: top;\n",
              "    }\n",
              "\n",
              "    .dataframe thead th {\n",
              "        text-align: right;\n",
              "    }\n",
              "</style>\n",
              "<table border=\"1\" class=\"dataframe\">\n",
              "  <thead>\n",
              "    <tr style=\"text-align: right;\">\n",
              "      <th></th>\n",
              "      <th>Wavelength_air</th>\n",
              "      <th>Amplitude_air</th>\n",
              "      <th>Wavelength_izo</th>\n",
              "      <th>Amplitude_izo</th>\n",
              "      <th>Wavelength_water</th>\n",
              "      <th>Amplitude_water</th>\n",
              "    </tr>\n",
              "  </thead>\n",
              "  <tbody>\n",
              "    <tr>\n",
              "      <th>0</th>\n",
              "      <td>0.000001</td>\n",
              "      <td>9.1792</td>\n",
              "      <td>0.000001</td>\n",
              "      <td>8.55510</td>\n",
              "      <td>0.000001</td>\n",
              "      <td>8.35700</td>\n",
              "    </tr>\n",
              "    <tr>\n",
              "      <th>1</th>\n",
              "      <td>0.000001</td>\n",
              "      <td>9.2003</td>\n",
              "      <td>0.000001</td>\n",
              "      <td>8.67500</td>\n",
              "      <td>0.000001</td>\n",
              "      <td>8.42870</td>\n",
              "    </tr>\n",
              "    <tr>\n",
              "      <th>2</th>\n",
              "      <td>0.000001</td>\n",
              "      <td>9.1968</td>\n",
              "      <td>0.000001</td>\n",
              "      <td>8.71160</td>\n",
              "      <td>0.000001</td>\n",
              "      <td>8.44220</td>\n",
              "    </tr>\n",
              "    <tr>\n",
              "      <th>3</th>\n",
              "      <td>0.000001</td>\n",
              "      <td>9.1028</td>\n",
              "      <td>0.000001</td>\n",
              "      <td>8.71570</td>\n",
              "      <td>0.000001</td>\n",
              "      <td>8.41440</td>\n",
              "    </tr>\n",
              "    <tr>\n",
              "      <th>4</th>\n",
              "      <td>0.000001</td>\n",
              "      <td>9.0601</td>\n",
              "      <td>0.000001</td>\n",
              "      <td>8.67920</td>\n",
              "      <td>0.000001</td>\n",
              "      <td>8.40340</td>\n",
              "    </tr>\n",
              "    <tr>\n",
              "      <th>...</th>\n",
              "      <td>...</td>\n",
              "      <td>...</td>\n",
              "      <td>...</td>\n",
              "      <td>...</td>\n",
              "      <td>...</td>\n",
              "      <td>...</td>\n",
              "    </tr>\n",
              "    <tr>\n",
              "      <th>30005</th>\n",
              "      <td>0.000002</td>\n",
              "      <td>3.2784</td>\n",
              "      <td>0.000002</td>\n",
              "      <td>-0.61478</td>\n",
              "      <td>0.000002</td>\n",
              "      <td>-0.86565</td>\n",
              "    </tr>\n",
              "    <tr>\n",
              "      <th>30006</th>\n",
              "      <td>0.000002</td>\n",
              "      <td>3.4213</td>\n",
              "      <td>0.000002</td>\n",
              "      <td>-0.53629</td>\n",
              "      <td>0.000002</td>\n",
              "      <td>-0.84435</td>\n",
              "    </tr>\n",
              "    <tr>\n",
              "      <th>30007</th>\n",
              "      <td>0.000002</td>\n",
              "      <td>3.3112</td>\n",
              "      <td>0.000002</td>\n",
              "      <td>-0.81838</td>\n",
              "      <td>0.000002</td>\n",
              "      <td>-0.97383</td>\n",
              "    </tr>\n",
              "    <tr>\n",
              "      <th>30008</th>\n",
              "      <td>0.000002</td>\n",
              "      <td>3.4500</td>\n",
              "      <td>0.000002</td>\n",
              "      <td>-0.57202</td>\n",
              "      <td>0.000002</td>\n",
              "      <td>-0.63849</td>\n",
              "    </tr>\n",
              "    <tr>\n",
              "      <th>30009</th>\n",
              "      <td>0.000002</td>\n",
              "      <td>3.6370</td>\n",
              "      <td>0.000002</td>\n",
              "      <td>-0.42871</td>\n",
              "      <td>0.000002</td>\n",
              "      <td>-0.75215</td>\n",
              "    </tr>\n",
              "  </tbody>\n",
              "</table>\n",
              "<p>30010 rows × 6 columns</p>\n",
              "</div>\n",
              "      <button class=\"colab-df-convert\" onclick=\"convertToInteractive('df-ad88d3ae-9f60-4e9e-8591-6af616ba914f')\"\n",
              "              title=\"Convert this dataframe to an interactive table.\"\n",
              "              style=\"display:none;\">\n",
              "        \n",
              "  <svg xmlns=\"http://www.w3.org/2000/svg\" height=\"24px\"viewBox=\"0 0 24 24\"\n",
              "       width=\"24px\">\n",
              "    <path d=\"M0 0h24v24H0V0z\" fill=\"none\"/>\n",
              "    <path d=\"M18.56 5.44l.94 2.06.94-2.06 2.06-.94-2.06-.94-.94-2.06-.94 2.06-2.06.94zm-11 1L8.5 8.5l.94-2.06 2.06-.94-2.06-.94L8.5 2.5l-.94 2.06-2.06.94zm10 10l.94 2.06.94-2.06 2.06-.94-2.06-.94-.94-2.06-.94 2.06-2.06.94z\"/><path d=\"M17.41 7.96l-1.37-1.37c-.4-.4-.92-.59-1.43-.59-.52 0-1.04.2-1.43.59L10.3 9.45l-7.72 7.72c-.78.78-.78 2.05 0 2.83L4 21.41c.39.39.9.59 1.41.59.51 0 1.02-.2 1.41-.59l7.78-7.78 2.81-2.81c.8-.78.8-2.07 0-2.86zM5.41 20L4 18.59l7.72-7.72 1.47 1.35L5.41 20z\"/>\n",
              "  </svg>\n",
              "      </button>\n",
              "      \n",
              "  <style>\n",
              "    .colab-df-container {\n",
              "      display:flex;\n",
              "      flex-wrap:wrap;\n",
              "      gap: 12px;\n",
              "    }\n",
              "\n",
              "    .colab-df-convert {\n",
              "      background-color: #E8F0FE;\n",
              "      border: none;\n",
              "      border-radius: 50%;\n",
              "      cursor: pointer;\n",
              "      display: none;\n",
              "      fill: #1967D2;\n",
              "      height: 32px;\n",
              "      padding: 0 0 0 0;\n",
              "      width: 32px;\n",
              "    }\n",
              "\n",
              "    .colab-df-convert:hover {\n",
              "      background-color: #E2EBFA;\n",
              "      box-shadow: 0px 1px 2px rgba(60, 64, 67, 0.3), 0px 1px 3px 1px rgba(60, 64, 67, 0.15);\n",
              "      fill: #174EA6;\n",
              "    }\n",
              "\n",
              "    [theme=dark] .colab-df-convert {\n",
              "      background-color: #3B4455;\n",
              "      fill: #D2E3FC;\n",
              "    }\n",
              "\n",
              "    [theme=dark] .colab-df-convert:hover {\n",
              "      background-color: #434B5C;\n",
              "      box-shadow: 0px 1px 3px 1px rgba(0, 0, 0, 0.15);\n",
              "      filter: drop-shadow(0px 1px 2px rgba(0, 0, 0, 0.3));\n",
              "      fill: #FFFFFF;\n",
              "    }\n",
              "  </style>\n",
              "\n",
              "      <script>\n",
              "        const buttonEl =\n",
              "          document.querySelector('#df-ad88d3ae-9f60-4e9e-8591-6af616ba914f button.colab-df-convert');\n",
              "        buttonEl.style.display =\n",
              "          google.colab.kernel.accessAllowed ? 'block' : 'none';\n",
              "\n",
              "        async function convertToInteractive(key) {\n",
              "          const element = document.querySelector('#df-ad88d3ae-9f60-4e9e-8591-6af616ba914f');\n",
              "          const dataTable =\n",
              "            await google.colab.kernel.invokeFunction('convertToInteractive',\n",
              "                                                     [key], {});\n",
              "          if (!dataTable) return;\n",
              "\n",
              "          const docLinkHtml = 'Like what you see? Visit the ' +\n",
              "            '<a target=\"_blank\" href=https://colab.research.google.com/notebooks/data_table.ipynb>data table notebook</a>'\n",
              "            + ' to learn more about interactive tables.';\n",
              "          element.innerHTML = '';\n",
              "          dataTable['output_type'] = 'display_data';\n",
              "          await google.colab.output.renderOutput(dataTable, element);\n",
              "          const docLink = document.createElement('div');\n",
              "          docLink.innerHTML = docLinkHtml;\n",
              "          element.appendChild(docLink);\n",
              "        }\n",
              "      </script>\n",
              "    </div>\n",
              "  </div>\n",
              "  "
            ]
          },
          "metadata": {},
          "execution_count": 17
        }
      ]
    },
    {
      "cell_type": "code",
      "source": [
        "#Correlation between columns\n",
        "sns.heatmap(data.corr(),annot=True,cmap='mako',linewidths=0.2)\n",
        "fig=plt.gcf()\n",
        "fig.set_size_inches(20,12)\n",
        "plt.show()"
      ],
      "metadata": {
        "colab": {
          "base_uri": "https://localhost:8080/",
          "height": 873
        },
        "id": "B3StBi949MEc",
        "outputId": "4bd976d7-25cd-4a92-9cd0-bd7a5b0eec35"
      },
      "execution_count": 18,
      "outputs": [
        {
          "output_type": "display_data",
          "data": {
            "text/plain": [
              "<Figure size 1440x864 with 2 Axes>"
            ],
            "image/png": "[encoded data removed]"
          },
          "metadata": {
            "needs_background": "light"
          }
        }
      ]
    },
    {
      "cell_type": "code",
      "source": [
        "#Wavelength for every measurment have the same values so I delete two of them"
      ],
      "metadata": {
        "id": "m-7EV_OpRrFD"
      },
      "execution_count": 19,
      "outputs": []
    },
    {
      "cell_type": "code",
      "source": [
        "data = data.drop(['Wavelength_izo', 'Wavelength_water'], axis=1)"
      ],
      "metadata": {
        "id": "58uwrjqSNBwK"
      },
      "execution_count": 20,
      "outputs": []
    },
    {
      "cell_type": "code",
      "source": [
        "#Make variable dependency indicators"
      ],
      "metadata": {
        "id": "nKirucpaR0kP"
      },
      "execution_count": 21,
      "outputs": []
    },
    {
      "cell_type": "code",
      "source": [
        "data[\"score_air_izo\"] = data[\"Amplitude_air\"] / data[\"Amplitude_izo\"]"
      ],
      "metadata": {
        "id": "r3GQQy-C_h6_"
      },
      "execution_count": 22,
      "outputs": []
    },
    {
      "cell_type": "code",
      "source": [
        "data[\"score_air_wat\"] = data[\"Amplitude_air\"] / data[\"Amplitude_water\"]"
      ],
      "metadata": {
        "id": "n91G0gc__2FO"
      },
      "execution_count": 23,
      "outputs": []
    },
    {
      "cell_type": "code",
      "source": [
        "data"
      ],
      "metadata": {
        "colab": {
          "base_uri": "https://localhost:8080/",
          "height": 424
        },
        "id": "85pqA0ddXC3E",
        "outputId": "93c45679-986d-4b7e-9d34-3272c9a8a28e"
      },
      "execution_count": 24,
      "outputs": [
        {
          "output_type": "execute_result",
          "data": {
            "text/plain": [
              "       Wavelength_air  Amplitude_air  Amplitude_izo  Amplitude_water  \\\n",
              "0            0.000001         9.1792        8.55510          8.35700   \n",
              "1            0.000001         9.2003        8.67500          8.42870   \n",
              "2            0.000001         9.1968        8.71160          8.44220   \n",
              "3            0.000001         9.1028        8.71570          8.41440   \n",
              "4            0.000001         9.0601        8.67920          8.40340   \n",
              "...               ...            ...            ...              ...   \n",
              "30005        0.000002         3.2784       -0.61478         -0.86565   \n",
              "30006        0.000002         3.4213       -0.53629         -0.84435   \n",
              "30007        0.000002         3.3112       -0.81838         -0.97383   \n",
              "30008        0.000002         3.4500       -0.57202         -0.63849   \n",
              "30009        0.000002         3.6370       -0.42871         -0.75215   \n",
              "\n",
              "       score_air_izo  score_air_wat  \n",
              "0           1.072951       1.098385  \n",
              "1           1.060553       1.091544  \n",
              "2           1.055696       1.089384  \n",
              "3           1.044414       1.081812  \n",
              "4           1.043887       1.078147  \n",
              "...              ...            ...  \n",
              "30005      -5.332639      -3.787212  \n",
              "30006      -6.379571      -4.051993  \n",
              "30007      -4.046042      -3.400183  \n",
              "30008      -6.031258      -5.403374  \n",
              "30009      -8.483590      -4.835472  \n",
              "\n",
              "[30010 rows x 6 columns]"
            ],
            "text/html": [
              "\n",
              "  <div id=\"df-bc084086-00f7-4e0b-853c-8099177aebc5\">\n",
              "    <div class=\"colab-df-container\">\n",
              "      <div>\n",
              "<style scoped>\n",
              "    .dataframe tbody tr th:only-of-type {\n",
              "        vertical-align: middle;\n",
              "    }\n",
              "\n",
              "    .dataframe tbody tr th {\n",
              "        vertical-align: top;\n",
              "    }\n",
              "\n",
              "    .dataframe thead th {\n",
              "        text-align: right;\n",
              "    }\n",
              "</style>\n",
              "<table border=\"1\" class=\"dataframe\">\n",
              "  <thead>\n",
              "    <tr style=\"text-align: right;\">\n",
              "      <th></th>\n",
              "      <th>Wavelength_air</th>\n",
              "      <th>Amplitude_air</th>\n",
              "      <th>Amplitude_izo</th>\n",
              "      <th>Amplitude_water</th>\n",
              "      <th>score_air_izo</th>\n",
              "      <th>score_air_wat</th>\n",
              "    </tr>\n",
              "  </thead>\n",
              "  <tbody>\n",
              "    <tr>\n",
              "      <th>0</th>\n",
              "      <td>0.000001</td>\n",
              "      <td>9.1792</td>\n",
              "      <td>8.55510</td>\n",
              "      <td>8.35700</td>\n",
              "      <td>1.072951</td>\n",
              "      <td>1.098385</td>\n",
              "    </tr>\n",
              "    <tr>\n",
              "      <th>1</th>\n",
              "      <td>0.000001</td>\n",
              "      <td>9.2003</td>\n",
              "      <td>8.67500</td>\n",
              "      <td>8.42870</td>\n",
              "      <td>1.060553</td>\n",
              "      <td>1.091544</td>\n",
              "    </tr>\n",
              "    <tr>\n",
              "      <th>2</th>\n",
              "      <td>0.000001</td>\n",
              "      <td>9.1968</td>\n",
              "      <td>8.71160</td>\n",
              "      <td>8.44220</td>\n",
              "      <td>1.055696</td>\n",
              "      <td>1.089384</td>\n",
              "    </tr>\n",
              "    <tr>\n",
              "      <th>3</th>\n",
              "      <td>0.000001</td>\n",
              "      <td>9.1028</td>\n",
              "      <td>8.71570</td>\n",
              "      <td>8.41440</td>\n",
              "      <td>1.044414</td>\n",
              "      <td>1.081812</td>\n",
              "    </tr>\n",
              "    <tr>\n",
              "      <th>4</th>\n",
              "      <td>0.000001</td>\n",
              "      <td>9.0601</td>\n",
              "      <td>8.67920</td>\n",
              "      <td>8.40340</td>\n",
              "      <td>1.043887</td>\n",
              "      <td>1.078147</td>\n",
              "    </tr>\n",
              "    <tr>\n",
              "      <th>...</th>\n",
              "      <td>...</td>\n",
              "      <td>...</td>\n",
              "      <td>...</td>\n",
              "      <td>...</td>\n",
              "      <td>...</td>\n",
              "      <td>...</td>\n",
              "    </tr>\n",
              "    <tr>\n",
              "      <th>30005</th>\n",
              "      <td>0.000002</td>\n",
              "      <td>3.2784</td>\n",
              "      <td>-0.61478</td>\n",
              "      <td>-0.86565</td>\n",
              "      <td>-5.332639</td>\n",
              "      <td>-3.787212</td>\n",
              "    </tr>\n",
              "    <tr>\n",
              "      <th>30006</th>\n",
              "      <td>0.000002</td>\n",
              "      <td>3.4213</td>\n",
              "      <td>-0.53629</td>\n",
              "      <td>-0.84435</td>\n",
              "      <td>-6.379571</td>\n",
              "      <td>-4.051993</td>\n",
              "    </tr>\n",
              "    <tr>\n",
              "      <th>30007</th>\n",
              "      <td>0.000002</td>\n",
              "      <td>3.3112</td>\n",
              "      <td>-0.81838</td>\n",
              "      <td>-0.97383</td>\n",
              "      <td>-4.046042</td>\n",
              "      <td>-3.400183</td>\n",
              "    </tr>\n",
              "    <tr>\n",
              "      <th>30008</th>\n",
              "      <td>0.000002</td>\n",
              "      <td>3.4500</td>\n",
              "      <td>-0.57202</td>\n",
              "      <td>-0.63849</td>\n",
              "      <td>-6.031258</td>\n",
              "      <td>-5.403374</td>\n",
              "    </tr>\n",
              "    <tr>\n",
              "      <th>30009</th>\n",
              "      <td>0.000002</td>\n",
              "      <td>3.6370</td>\n",
              "      <td>-0.42871</td>\n",
              "      <td>-0.75215</td>\n",
              "      <td>-8.483590</td>\n",
              "      <td>-4.835472</td>\n",
              "    </tr>\n",
              "  </tbody>\n",
              "</table>\n",
              "<p>30010 rows × 6 columns</p>\n",
              "</div>\n",
              "      <button class=\"colab-df-convert\" onclick=\"convertToInteractive('df-bc084086-00f7-4e0b-853c-8099177aebc5')\"\n",
              "              title=\"Convert this dataframe to an interactive table.\"\n",
              "              style=\"display:none;\">\n",
              "        \n",
              "  <svg xmlns=\"http://www.w3.org/2000/svg\" height=\"24px\"viewBox=\"0 0 24 24\"\n",
              "       width=\"24px\">\n",
              "    <path d=\"M0 0h24v24H0V0z\" fill=\"none\"/>\n",
              "    <path d=\"M18.56 5.44l.94 2.06.94-2.06 2.06-.94-2.06-.94-.94-2.06-.94 2.06-2.06.94zm-11 1L8.5 8.5l.94-2.06 2.06-.94-2.06-.94L8.5 2.5l-.94 2.06-2.06.94zm10 10l.94 2.06.94-2.06 2.06-.94-2.06-.94-.94-2.06-.94 2.06-2.06.94z\"/><path d=\"M17.41 7.96l-1.37-1.37c-.4-.4-.92-.59-1.43-.59-.52 0-1.04.2-1.43.59L10.3 9.45l-7.72 7.72c-.78.78-.78 2.05 0 2.83L4 21.41c.39.39.9.59 1.41.59.51 0 1.02-.2 1.41-.59l7.78-7.78 2.81-2.81c.8-.78.8-2.07 0-2.86zM5.41 20L4 18.59l7.72-7.72 1.47 1.35L5.41 20z\"/>\n",
              "  </svg>\n",
              "      </button>\n",
              "      \n",
              "  <style>\n",
              "    .colab-df-container {\n",
              "      display:flex;\n",
              "      flex-wrap:wrap;\n",
              "      gap: 12px;\n",
              "    }\n",
              "\n",
              "    .colab-df-convert {\n",
              "      background-color: #E8F0FE;\n",
              "      border: none;\n",
              "      border-radius: 50%;\n",
              "      cursor: pointer;\n",
              "      display: none;\n",
              "      fill: #1967D2;\n",
              "      height: 32px;\n",
              "      padding: 0 0 0 0;\n",
              "      width: 32px;\n",
              "    }\n",
              "\n",
              "    .colab-df-convert:hover {\n",
              "      background-color: #E2EBFA;\n",
              "      box-shadow: 0px 1px 2px rgba(60, 64, 67, 0.3), 0px 1px 3px 1px rgba(60, 64, 67, 0.15);\n",
              "      fill: #174EA6;\n",
              "    }\n",
              "\n",
              "    [theme=dark] .colab-df-convert {\n",
              "      background-color: #3B4455;\n",
              "      fill: #D2E3FC;\n",
              "    }\n",
              "\n",
              "    [theme=dark] .colab-df-convert:hover {\n",
              "      background-color: #434B5C;\n",
              "      box-shadow: 0px 1px 3px 1px rgba(0, 0, 0, 0.15);\n",
              "      filter: drop-shadow(0px 1px 2px rgba(0, 0, 0, 0.3));\n",
              "      fill: #FFFFFF;\n",
              "    }\n",
              "  </style>\n",
              "\n",
              "      <script>\n",
              "        const buttonEl =\n",
              "          document.querySelector('#df-bc084086-00f7-4e0b-853c-8099177aebc5 button.colab-df-convert');\n",
              "        buttonEl.style.display =\n",
              "          google.colab.kernel.accessAllowed ? 'block' : 'none';\n",
              "\n",
              "        async function convertToInteractive(key) {\n",
              "          const element = document.querySelector('#df-bc084086-00f7-4e0b-853c-8099177aebc5');\n",
              "          const dataTable =\n",
              "            await google.colab.kernel.invokeFunction('convertToInteractive',\n",
              "                                                     [key], {});\n",
              "          if (!dataTable) return;\n",
              "\n",
              "          const docLinkHtml = 'Like what you see? Visit the ' +\n",
              "            '<a target=\"_blank\" href=https://colab.research.google.com/notebooks/data_table.ipynb>data table notebook</a>'\n",
              "            + ' to learn more about interactive tables.';\n",
              "          element.innerHTML = '';\n",
              "          dataTable['output_type'] = 'display_data';\n",
              "          await google.colab.output.renderOutput(dataTable, element);\n",
              "          const docLink = document.createElement('div');\n",
              "          docLink.innerHTML = docLinkHtml;\n",
              "          element.appendChild(docLink);\n",
              "        }\n",
              "      </script>\n",
              "    </div>\n",
              "  </div>\n",
              "  "
            ]
          },
          "metadata": {},
          "execution_count": 24
        }
      ]
    },
    {
      "cell_type": "code",
      "source": [
        "#Work on two datasets - one for predicting the amplitude in the air, the other for iso"
      ],
      "metadata": {
        "id": "AVou-HIOSMz-"
      },
      "execution_count": 25,
      "outputs": []
    },
    {
      "cell_type": "code",
      "source": [
        "data1 = data.drop(['Amplitude_izo'], axis=1)"
      ],
      "metadata": {
        "id": "g7Go2Q16Ygd2"
      },
      "execution_count": 26,
      "outputs": []
    },
    {
      "cell_type": "code",
      "source": [
        "data1"
      ],
      "metadata": {
        "colab": {
          "base_uri": "https://localhost:8080/",
          "height": 424
        },
        "id": "NCXTppswY04w",
        "outputId": "8236de14-ecca-4cc4-c541-eea0d86f349d"
      },
      "execution_count": 27,
      "outputs": [
        {
          "output_type": "execute_result",
          "data": {
            "text/plain": [
              "       Wavelength_air  Amplitude_air  Amplitude_water  score_air_izo  \\\n",
              "0            0.000001         9.1792          8.35700       1.072951   \n",
              "1            0.000001         9.2003          8.42870       1.060553   \n",
              "2            0.000001         9.1968          8.44220       1.055696   \n",
              "3            0.000001         9.1028          8.41440       1.044414   \n",
              "4            0.000001         9.0601          8.40340       1.043887   \n",
              "...               ...            ...              ...            ...   \n",
              "30005        0.000002         3.2784         -0.86565      -5.332639   \n",
              "30006        0.000002         3.4213         -0.84435      -6.379571   \n",
              "30007        0.000002         3.3112         -0.97383      -4.046042   \n",
              "30008        0.000002         3.4500         -0.63849      -6.031258   \n",
              "30009        0.000002         3.6370         -0.75215      -8.483590   \n",
              "\n",
              "       score_air_wat  \n",
              "0           1.098385  \n",
              "1           1.091544  \n",
              "2           1.089384  \n",
              "3           1.081812  \n",
              "4           1.078147  \n",
              "...              ...  \n",
              "30005      -3.787212  \n",
              "30006      -4.051993  \n",
              "30007      -3.400183  \n",
              "30008      -5.403374  \n",
              "30009      -4.835472  \n",
              "\n",
              "[30010 rows x 5 columns]"
            ],
            "text/html": [
              "\n",
              "  <div id=\"df-0fc9a020-9f70-4dc1-b32d-013ff55b1a47\">\n",
              "    <div class=\"colab-df-container\">\n",
              "      <div>\n",
              "<style scoped>\n",
              "    .dataframe tbody tr th:only-of-type {\n",
              "        vertical-align: middle;\n",
              "    }\n",
              "\n",
              "    .dataframe tbody tr th {\n",
              "        vertical-align: top;\n",
              "    }\n",
              "\n",
              "    .dataframe thead th {\n",
              "        text-align: right;\n",
              "    }\n",
              "</style>\n",
              "<table border=\"1\" class=\"dataframe\">\n",
              "  <thead>\n",
              "    <tr style=\"text-align: right;\">\n",
              "      <th></th>\n",
              "      <th>Wavelength_air</th>\n",
              "      <th>Amplitude_air</th>\n",
              "      <th>Amplitude_water</th>\n",
              "      <th>score_air_izo</th>\n",
              "      <th>score_air_wat</th>\n",
              "    </tr>\n",
              "  </thead>\n",
              "  <tbody>\n",
              "    <tr>\n",
              "      <th>0</th>\n",
              "      <td>0.000001</td>\n",
              "      <td>9.1792</td>\n",
              "      <td>8.35700</td>\n",
              "      <td>1.072951</td>\n",
              "      <td>1.098385</td>\n",
              "    </tr>\n",
              "    <tr>\n",
              "      <th>1</th>\n",
              "      <td>0.000001</td>\n",
              "      <td>9.2003</td>\n",
              "      <td>8.42870</td>\n",
              "      <td>1.060553</td>\n",
              "      <td>1.091544</td>\n",
              "    </tr>\n",
              "    <tr>\n",
              "      <th>2</th>\n",
              "      <td>0.000001</td>\n",
              "      <td>9.1968</td>\n",
              "      <td>8.44220</td>\n",
              "      <td>1.055696</td>\n",
              "      <td>1.089384</td>\n",
              "    </tr>\n",
              "    <tr>\n",
              "      <th>3</th>\n",
              "      <td>0.000001</td>\n",
              "      <td>9.1028</td>\n",
              "      <td>8.41440</td>\n",
              "      <td>1.044414</td>\n",
              "      <td>1.081812</td>\n",
              "    </tr>\n",
              "    <tr>\n",
              "      <th>4</th>\n",
              "      <td>0.000001</td>\n",
              "      <td>9.0601</td>\n",
              "      <td>8.40340</td>\n",
              "      <td>1.043887</td>\n",
              "      <td>1.078147</td>\n",
              "    </tr>\n",
              "    <tr>\n",
              "      <th>...</th>\n",
              "      <td>...</td>\n",
              "      <td>...</td>\n",
              "      <td>...</td>\n",
              "      <td>...</td>\n",
              "      <td>...</td>\n",
              "    </tr>\n",
              "    <tr>\n",
              "      <th>30005</th>\n",
              "      <td>0.000002</td>\n",
              "      <td>3.2784</td>\n",
              "      <td>-0.86565</td>\n",
              "      <td>-5.332639</td>\n",
              "      <td>-3.787212</td>\n",
              "    </tr>\n",
              "    <tr>\n",
              "      <th>30006</th>\n",
              "      <td>0.000002</td>\n",
              "      <td>3.4213</td>\n",
              "      <td>-0.84435</td>\n",
              "      <td>-6.379571</td>\n",
              "      <td>-4.051993</td>\n",
              "    </tr>\n",
              "    <tr>\n",
              "      <th>30007</th>\n",
              "      <td>0.000002</td>\n",
              "      <td>3.3112</td>\n",
              "      <td>-0.97383</td>\n",
              "      <td>-4.046042</td>\n",
              "      <td>-3.400183</td>\n",
              "    </tr>\n",
              "    <tr>\n",
              "      <th>30008</th>\n",
              "      <td>0.000002</td>\n",
              "      <td>3.4500</td>\n",
              "      <td>-0.63849</td>\n",
              "      <td>-6.031258</td>\n",
              "      <td>-5.403374</td>\n",
              "    </tr>\n",
              "    <tr>\n",
              "      <th>30009</th>\n",
              "      <td>0.000002</td>\n",
              "      <td>3.6370</td>\n",
              "      <td>-0.75215</td>\n",
              "      <td>-8.483590</td>\n",
              "      <td>-4.835472</td>\n",
              "    </tr>\n",
              "  </tbody>\n",
              "</table>\n",
              "<p>30010 rows × 5 columns</p>\n",
              "</div>\n",
              "      <button class=\"colab-df-convert\" onclick=\"convertToInteractive('df-0fc9a020-9f70-4dc1-b32d-013ff55b1a47')\"\n",
              "              title=\"Convert this dataframe to an interactive table.\"\n",
              "              style=\"display:none;\">\n",
              "        \n",
              "  <svg xmlns=\"http://www.w3.org/2000/svg\" height=\"24px\"viewBox=\"0 0 24 24\"\n",
              "       width=\"24px\">\n",
              "    <path d=\"M0 0h24v24H0V0z\" fill=\"none\"/>\n",
              "    <path d=\"M18.56 5.44l.94 2.06.94-2.06 2.06-.94-2.06-.94-.94-2.06-.94 2.06-2.06.94zm-11 1L8.5 8.5l.94-2.06 2.06-.94-2.06-.94L8.5 2.5l-.94 2.06-2.06.94zm10 10l.94 2.06.94-2.06 2.06-.94-2.06-.94-.94-2.06-.94 2.06-2.06.94z\"/><path d=\"M17.41 7.96l-1.37-1.37c-.4-.4-.92-.59-1.43-.59-.52 0-1.04.2-1.43.59L10.3 9.45l-7.72 7.72c-.78.78-.78 2.05 0 2.83L4 21.41c.39.39.9.59 1.41.59.51 0 1.02-.2 1.41-.59l7.78-7.78 2.81-2.81c.8-.78.8-2.07 0-2.86zM5.41 20L4 18.59l7.72-7.72 1.47 1.35L5.41 20z\"/>\n",
              "  </svg>\n",
              "      </button>\n",
              "      \n",
              "  <style>\n",
              "    .colab-df-container {\n",
              "      display:flex;\n",
              "      flex-wrap:wrap;\n",
              "      gap: 12px;\n",
              "    }\n",
              "\n",
              "    .colab-df-convert {\n",
              "      background-color: #E8F0FE;\n",
              "      border: none;\n",
              "      border-radius: 50%;\n",
              "      cursor: pointer;\n",
              "      display: none;\n",
              "      fill: #1967D2;\n",
              "      height: 32px;\n",
              "      padding: 0 0 0 0;\n",
              "      width: 32px;\n",
              "    }\n",
              "\n",
              "    .colab-df-convert:hover {\n",
              "      background-color: #E2EBFA;\n",
              "      box-shadow: 0px 1px 2px rgba(60, 64, 67, 0.3), 0px 1px 3px 1px rgba(60, 64, 67, 0.15);\n",
              "      fill: #174EA6;\n",
              "    }\n",
              "\n",
              "    [theme=dark] .colab-df-convert {\n",
              "      background-color: #3B4455;\n",
              "      fill: #D2E3FC;\n",
              "    }\n",
              "\n",
              "    [theme=dark] .colab-df-convert:hover {\n",
              "      background-color: #434B5C;\n",
              "      box-shadow: 0px 1px 3px 1px rgba(0, 0, 0, 0.15);\n",
              "      filter: drop-shadow(0px 1px 2px rgba(0, 0, 0, 0.3));\n",
              "      fill: #FFFFFF;\n",
              "    }\n",
              "  </style>\n",
              "\n",
              "      <script>\n",
              "        const buttonEl =\n",
              "          document.querySelector('#df-0fc9a020-9f70-4dc1-b32d-013ff55b1a47 button.colab-df-convert');\n",
              "        buttonEl.style.display =\n",
              "          google.colab.kernel.accessAllowed ? 'block' : 'none';\n",
              "\n",
              "        async function convertToInteractive(key) {\n",
              "          const element = document.querySelector('#df-0fc9a020-9f70-4dc1-b32d-013ff55b1a47');\n",
              "          const dataTable =\n",
              "            await google.colab.kernel.invokeFunction('convertToInteractive',\n",
              "                                                     [key], {});\n",
              "          if (!dataTable) return;\n",
              "\n",
              "          const docLinkHtml = 'Like what you see? Visit the ' +\n",
              "            '<a target=\"_blank\" href=https://colab.research.google.com/notebooks/data_table.ipynb>data table notebook</a>'\n",
              "            + ' to learn more about interactive tables.';\n",
              "          element.innerHTML = '';\n",
              "          dataTable['output_type'] = 'display_data';\n",
              "          await google.colab.output.renderOutput(dataTable, element);\n",
              "          const docLink = document.createElement('div');\n",
              "          docLink.innerHTML = docLinkHtml;\n",
              "          element.appendChild(docLink);\n",
              "        }\n",
              "      </script>\n",
              "    </div>\n",
              "  </div>\n",
              "  "
            ]
          },
          "metadata": {},
          "execution_count": 27
        }
      ]
    },
    {
      "cell_type": "code",
      "source": [
        "data2 = data.drop(['Amplitude_water'], axis=1)"
      ],
      "metadata": {
        "id": "rM9HPOp8Yk_B"
      },
      "execution_count": 28,
      "outputs": []
    },
    {
      "cell_type": "code",
      "source": [
        "#Predicing Amplitude_iso amplitude for sensor in isopropanol"
      ],
      "metadata": {
        "id": "DTr7n7YkrL5v"
      },
      "execution_count": 29,
      "outputs": []
    },
    {
      "cell_type": "code",
      "source": [
        "x = data2.drop('Amplitude_izo', axis=1)\n",
        "y = data2.Amplitude_izo\n",
        "\n",
        "x_train, x_test, y_train, y_test = train_test_split(x, y, test_size= 0.2, random_state= 12)"
      ],
      "metadata": {
        "id": "wK-obSYROZ_Y"
      },
      "execution_count": 30,
      "outputs": []
    },
    {
      "cell_type": "code",
      "source": [
        "#Building regression models"
      ],
      "metadata": {
        "id": "i_jlw6SMSkWY"
      },
      "execution_count": 31,
      "outputs": []
    },
    {
      "cell_type": "code",
      "source": [
        "#Linear Regression"
      ],
      "metadata": {
        "id": "OhWfS1jVSpeP"
      },
      "execution_count": 32,
      "outputs": []
    },
    {
      "cell_type": "code",
      "source": [
        "regressor_linear = LinearRegression()\n",
        "regressor_linear.fit(x_train, y_train)"
      ],
      "metadata": {
        "colab": {
          "base_uri": "https://localhost:8080/"
        },
        "id": "m8_W6tZ5Z276",
        "outputId": "8e9b35e1-ad0a-42ca-904a-841b3fd9e985"
      },
      "execution_count": 33,
      "outputs": [
        {
          "output_type": "execute_result",
          "data": {
            "text/plain": [
              "LinearRegression()"
            ]
          },
          "metadata": {},
          "execution_count": 33
        }
      ]
    },
    {
      "cell_type": "code",
      "source": [
        "# print the intercept\n",
        "print(regressor_linear.intercept_)"
      ],
      "metadata": {
        "colab": {
          "base_uri": "https://localhost:8080/"
        },
        "id": "nx7Sk4h9sVOg",
        "outputId": "1c6b3725-d850-4a3f-ebfa-3eb0b9768ad3"
      },
      "execution_count": 34,
      "outputs": [
        {
          "output_type": "stream",
          "name": "stdout",
          "text": [
            "41.80847697183959\n"
          ]
        }
      ]
    },
    {
      "cell_type": "code",
      "source": [
        "coeff_df = pd.DataFrame(regressor_linear.coef_, x.columns, columns=['Coefficient'])\n",
        "coeff_df"
      ],
      "metadata": {
        "colab": {
          "base_uri": "https://localhost:8080/",
          "height": 175
        },
        "id": "u7v8OoGlsfq0",
        "outputId": "8b1bba61-f4ff-453c-a466-b8d850f19415"
      },
      "execution_count": 35,
      "outputs": [
        {
          "output_type": "execute_result",
          "data": {
            "text/plain": [
              "                 Coefficient\n",
              "Wavelength_air -2.955804e+07\n",
              "Amplitude_air   9.441334e-01\n",
              "score_air_izo   8.464303e-04\n",
              "score_air_wat   1.647386e-03"
            ],
            "text/html": [
              "\n",
              "  <div id=\"df-15e1ebbe-72ef-46ea-9e12-9adbdf90364b\">\n",
              "    <div class=\"colab-df-container\">\n",
              "      <div>\n",
              "<style scoped>\n",
              "    .dataframe tbody tr th:only-of-type {\n",
              "        vertical-align: middle;\n",
              "    }\n",
              "\n",
              "    .dataframe tbody tr th {\n",
              "        vertical-align: top;\n",
              "    }\n",
              "\n",
              "    .dataframe thead th {\n",
              "        text-align: right;\n",
              "    }\n",
              "</style>\n",
              "<table border=\"1\" class=\"dataframe\">\n",
              "  <thead>\n",
              "    <tr style=\"text-align: right;\">\n",
              "      <th></th>\n",
              "      <th>Coefficient</th>\n",
              "    </tr>\n",
              "  </thead>\n",
              "  <tbody>\n",
              "    <tr>\n",
              "      <th>Wavelength_air</th>\n",
              "      <td>-2.955804e+07</td>\n",
              "    </tr>\n",
              "    <tr>\n",
              "      <th>Amplitude_air</th>\n",
              "      <td>9.441334e-01</td>\n",
              "    </tr>\n",
              "    <tr>\n",
              "      <th>score_air_izo</th>\n",
              "      <td>8.464303e-04</td>\n",
              "    </tr>\n",
              "    <tr>\n",
              "      <th>score_air_wat</th>\n",
              "      <td>1.647386e-03</td>\n",
              "    </tr>\n",
              "  </tbody>\n",
              "</table>\n",
              "</div>\n",
              "      <button class=\"colab-df-convert\" onclick=\"convertToInteractive('df-15e1ebbe-72ef-46ea-9e12-9adbdf90364b')\"\n",
              "              title=\"Convert this dataframe to an interactive table.\"\n",
              "              style=\"display:none;\">\n",
              "        \n",
              "  <svg xmlns=\"http://www.w3.org/2000/svg\" height=\"24px\"viewBox=\"0 0 24 24\"\n",
              "       width=\"24px\">\n",
              "    <path d=\"M0 0h24v24H0V0z\" fill=\"none\"/>\n",
              "    <path d=\"M18.56 5.44l.94 2.06.94-2.06 2.06-.94-2.06-.94-.94-2.06-.94 2.06-2.06.94zm-11 1L8.5 8.5l.94-2.06 2.06-.94-2.06-.94L8.5 2.5l-.94 2.06-2.06.94zm10 10l.94 2.06.94-2.06 2.06-.94-2.06-.94-.94-2.06-.94 2.06-2.06.94z\"/><path d=\"M17.41 7.96l-1.37-1.37c-.4-.4-.92-.59-1.43-.59-.52 0-1.04.2-1.43.59L10.3 9.45l-7.72 7.72c-.78.78-.78 2.05 0 2.83L4 21.41c.39.39.9.59 1.41.59.51 0 1.02-.2 1.41-.59l7.78-7.78 2.81-2.81c.8-.78.8-2.07 0-2.86zM5.41 20L4 18.59l7.72-7.72 1.47 1.35L5.41 20z\"/>\n",
              "  </svg>\n",
              "      </button>\n",
              "      \n",
              "  <style>\n",
              "    .colab-df-container {\n",
              "      display:flex;\n",
              "      flex-wrap:wrap;\n",
              "      gap: 12px;\n",
              "    }\n",
              "\n",
              "    .colab-df-convert {\n",
              "      background-color: #E8F0FE;\n",
              "      border: none;\n",
              "      border-radius: 50%;\n",
              "      cursor: pointer;\n",
              "      display: none;\n",
              "      fill: #1967D2;\n",
              "      height: 32px;\n",
              "      padding: 0 0 0 0;\n",
              "      width: 32px;\n",
              "    }\n",
              "\n",
              "    .colab-df-convert:hover {\n",
              "      background-color: #E2EBFA;\n",
              "      box-shadow: 0px 1px 2px rgba(60, 64, 67, 0.3), 0px 1px 3px 1px rgba(60, 64, 67, 0.15);\n",
              "      fill: #174EA6;\n",
              "    }\n",
              "\n",
              "    [theme=dark] .colab-df-convert {\n",
              "      background-color: #3B4455;\n",
              "      fill: #D2E3FC;\n",
              "    }\n",
              "\n",
              "    [theme=dark] .colab-df-convert:hover {\n",
              "      background-color: #434B5C;\n",
              "      box-shadow: 0px 1px 3px 1px rgba(0, 0, 0, 0.15);\n",
              "      filter: drop-shadow(0px 1px 2px rgba(0, 0, 0, 0.3));\n",
              "      fill: #FFFFFF;\n",
              "    }\n",
              "  </style>\n",
              "\n",
              "      <script>\n",
              "        const buttonEl =\n",
              "          document.querySelector('#df-15e1ebbe-72ef-46ea-9e12-9adbdf90364b button.colab-df-convert');\n",
              "        buttonEl.style.display =\n",
              "          google.colab.kernel.accessAllowed ? 'block' : 'none';\n",
              "\n",
              "        async function convertToInteractive(key) {\n",
              "          const element = document.querySelector('#df-15e1ebbe-72ef-46ea-9e12-9adbdf90364b');\n",
              "          const dataTable =\n",
              "            await google.colab.kernel.invokeFunction('convertToInteractive',\n",
              "                                                     [key], {});\n",
              "          if (!dataTable) return;\n",
              "\n",
              "          const docLinkHtml = 'Like what you see? Visit the ' +\n",
              "            '<a target=\"_blank\" href=https://colab.research.google.com/notebooks/data_table.ipynb>data table notebook</a>'\n",
              "            + ' to learn more about interactive tables.';\n",
              "          element.innerHTML = '';\n",
              "          dataTable['output_type'] = 'display_data';\n",
              "          await google.colab.output.renderOutput(dataTable, element);\n",
              "          const docLink = document.createElement('div');\n",
              "          docLink.innerHTML = docLinkHtml;\n",
              "          element.appendChild(docLink);\n",
              "        }\n",
              "      </script>\n",
              "    </div>\n",
              "  </div>\n",
              "  "
            ]
          },
          "metadata": {},
          "execution_count": 35
        }
      ]
    },
    {
      "cell_type": "code",
      "source": [
        "#Functions for metrics"
      ],
      "metadata": {
        "id": "t_1GxZbZuBCw"
      },
      "execution_count": 36,
      "outputs": []
    },
    {
      "cell_type": "code",
      "source": [
        "def cross_val(model):\n",
        "    pred = cross_val_score(model, x, y, cv=10)\n",
        "    return pred.mean()\n",
        "    \n",
        "def print_evaluate(true, predicted):  \n",
        "    mae = metrics.mean_absolute_error(true, predicted)\n",
        "    mse = metrics.mean_squared_error(true, predicted)\n",
        "    rmse = np.sqrt(metrics.mean_squared_error(true, predicted))\n",
        "    r2_square = metrics.r2_score(true, predicted)\n",
        "    print('MAE:', mae)\n",
        "    print('MSE:', mse)\n",
        "    print('RMSE:', rmse)\n",
        "    print('R2 Square', r2_square)\n",
        "    print('__________________________________')\n",
        "    \n",
        "def evaluate(true, predicted):\n",
        "    mae = metrics.mean_absolute_error(true, predicted)\n",
        "    mse = metrics.mean_squared_error(true, predicted)\n",
        "    rmse = np.sqrt(metrics.mean_squared_error(true, predicted))\n",
        "    r2_square = metrics.r2_score(true, predicted)\n",
        "    return mae, mse, rmse, r2_square"
      ],
      "metadata": {
        "id": "qk-kXmPNtkky"
      },
      "execution_count": 37,
      "outputs": []
    },
    {
      "cell_type": "code",
      "source": [
        "pred = regressor_linear.predict(x_test)"
      ],
      "metadata": {
        "id": "dxetMD0Es4zq"
      },
      "execution_count": 38,
      "outputs": []
    },
    {
      "cell_type": "code",
      "source": [
        "test_pred = regressor_linear.predict(x_test)\n",
        "train_pred = regressor_linear.predict(x_train)\n",
        "\n",
        "print('Test set evaluation:\\n_____________________________________')\n",
        "print_evaluate(y_test, test_pred)\n",
        "print('Train set evaluation:\\n_____________________________________')\n",
        "print_evaluate(y_train, train_pred)\n",
        "\n",
        "results_df = pd.DataFrame(data=[[\"Linear Regression\", *evaluate(y_test, test_pred) , cross_val(LinearRegression())]], \n",
        "                          columns=['Model', 'MAE', 'MSE', 'RMSE', 'R2 Square', \"Cross Validation\"])"
      ],
      "metadata": {
        "colab": {
          "base_uri": "https://localhost:8080/"
        },
        "id": "1F4YH6mEuesW",
        "outputId": "a5b4efe0-3bd6-47a9-a759-0ecde3d07143"
      },
      "execution_count": 39,
      "outputs": [
        {
          "output_type": "stream",
          "name": "stdout",
          "text": [
            "Test set evaluation:\n",
            "_____________________________________\n",
            "MAE: 2.04671352374128\n",
            "MSE: 6.569168111557095\n",
            "RMSE: 2.5630388431619786\n",
            "R2 Square 0.8633508940811108\n",
            "__________________________________\n",
            "Train set evaluation:\n",
            "_____________________________________\n",
            "MAE: 2.040412572211622\n",
            "MSE: 6.577391284228983\n",
            "RMSE: 2.5646425256220375\n",
            "R2 Square 0.8651014757888855\n",
            "__________________________________\n"
          ]
        }
      ]
    },
    {
      "cell_type": "code",
      "source": [
        "#Ridge"
      ],
      "metadata": {
        "id": "vC0LmR9tS7Tz"
      },
      "execution_count": 40,
      "outputs": []
    },
    {
      "cell_type": "code",
      "source": [
        "from sklearn.linear_model import Ridge\n",
        "\n",
        "model = Ridge(alpha=100, solver='cholesky', tol=0.0001, random_state=42)\n",
        "model.fit(x_train, y_train)\n",
        "pred = model.predict(x_test)\n",
        "\n",
        "test_pred = model.predict(x_test)\n",
        "train_pred = model.predict(x_train)\n",
        "\n",
        "print('Test set evaluation:\\n_____________________________________')\n",
        "print_evaluate(y_test, test_pred)\n",
        "print('====================================')\n",
        "print('Train set evaluation:\\n_____________________________________')\n",
        "print_evaluate(y_train, train_pred)\n",
        "\n",
        "results_df_2 = pd.DataFrame(data=[[\"Ridge Regression\", *evaluate(y_test, test_pred) , cross_val(Ridge())]], \n",
        "                            columns=['Model', 'MAE', 'MSE', 'RMSE', 'R2 Square', \"Cross Validation\"])\n",
        "results_df = results_df.append(results_df_2, ignore_index=True)"
      ],
      "metadata": {
        "colab": {
          "base_uri": "https://localhost:8080/"
        },
        "id": "oddsl02itZrp",
        "outputId": "9352a008-983c-4507-9214-e9ee19143d45"
      },
      "execution_count": 41,
      "outputs": [
        {
          "output_type": "stream",
          "name": "stdout",
          "text": [
            "Test set evaluation:\n",
            "_____________________________________\n",
            "MAE: 2.7310203728885645\n",
            "MSE: 10.766126720548689\n",
            "RMSE: 3.281177642333418\n",
            "R2 Square 0.7760475047085182\n",
            "__________________________________\n",
            "====================================\n",
            "Train set evaluation:\n",
            "_____________________________________\n",
            "MAE: 2.722068882842799\n",
            "MSE: 10.764922924570655\n",
            "RMSE: 3.280994197582595\n",
            "R2 Square 0.7792176026910641\n",
            "__________________________________\n"
          ]
        }
      ]
    },
    {
      "cell_type": "code",
      "source": [
        "#Plot contains sensor in isoproponal predicted by Ridge Regressor comparison to reality characteristics"
      ],
      "metadata": {
        "id": "_D_lKll0dbeU"
      },
      "execution_count": 42,
      "outputs": []
    },
    {
      "cell_type": "code",
      "source": [
        "plt.rcParams[\"figure.figsize\"] = [10.50, 4.50]\n",
        "plt.rcParams[\"figure.autolayout\"] = True\n",
        "plt.subplot(111)\n",
        "plt.plot(sensor01_izo.Wavelength_izo, model.predict(x)[0:3001], color='orange', lw=3)\n",
        "plt.plot(sensor01_izo.Wavelength_izo, sensor01_izo.Amplitude_izo, color='green', lw=3)"
      ],
      "metadata": {
        "colab": {
          "base_uri": "https://localhost:8080/",
          "height": 350
        },
        "id": "1W7-okxfdRUw",
        "outputId": "f7f0180b-5a83-4410-cdee-0d957ecf1b49"
      },
      "execution_count": 43,
      "outputs": [
        {
          "output_type": "execute_result",
          "data": {
            "text/plain": [
              "[<matplotlib.lines.Line2D at 0x7f62e97ddbb0>]"
            ]
          },
          "metadata": {},
          "execution_count": 43
        },
        {
          "output_type": "display_data",
          "data": {
            "text/plain": [
              "<Figure size 756x324 with 1 Axes>"
            ],
            "image/png": "[encoded data removed]"
          },
          "metadata": {
            "needs_background": "light"
          }
        }
      ]
    },
    {
      "cell_type": "code",
      "source": [
        "#Polynomail Regression"
      ],
      "metadata": {
        "id": "CfLzjJ-JTAyB"
      },
      "execution_count": 44,
      "outputs": []
    },
    {
      "cell_type": "code",
      "source": [
        "from sklearn.preprocessing import PolynomialFeatures\n",
        "\n",
        "poly_reg = PolynomialFeatures(degree=2)\n",
        "\n",
        "X_train_2_d = poly_reg.fit_transform(x_train)\n",
        "X_test_2_d = poly_reg.transform(x_test)\n",
        "\n",
        "lin_reg = LinearRegression(normalize=True)\n",
        "lin_reg.fit(X_train_2_d,y_train)\n",
        "\n",
        "test_pred = lin_reg.predict(X_test_2_d)\n",
        "train_pred = lin_reg.predict(X_train_2_d)\n",
        "\n",
        "print('Test set evaluation:\\n_____________________________________')\n",
        "print_evaluate(y_test, test_pred)\n",
        "print('====================================')\n",
        "print('Train set evaluation:\\n_____________________________________')\n",
        "print_evaluate(y_train, train_pred)\n",
        "\n",
        "results_df_2 = pd.DataFrame(data=[[\"Polynomail Regression\", *evaluate(y_test, test_pred), 0]], \n",
        "                            columns=['Model', 'MAE', 'MSE', 'RMSE', 'R2 Square', 'Cross Validation'])\n",
        "results_df = results_df.append(results_df_2, ignore_index=True)"
      ],
      "metadata": {
        "colab": {
          "base_uri": "https://localhost:8080/"
        },
        "id": "W-5xAUFbu3AO",
        "outputId": "6694563b-9006-4b0a-ea5d-5cfc870131f7"
      },
      "execution_count": 45,
      "outputs": [
        {
          "output_type": "stream",
          "name": "stdout",
          "text": [
            "Test set evaluation:\n",
            "_____________________________________\n",
            "MAE: 0.6136173719953388\n",
            "MSE: 0.9961778824080987\n",
            "RMSE: 0.9980871116330973\n",
            "R2 Square 0.9792779215487343\n",
            "__________________________________\n",
            "====================================\n",
            "Train set evaluation:\n",
            "_____________________________________\n",
            "MAE: 0.616249774228882\n",
            "MSE: 0.9284275240196809\n",
            "RMSE: 0.9635494403608363\n",
            "R2 Square 0.9809584837794981\n",
            "__________________________________\n"
          ]
        }
      ]
    },
    {
      "cell_type": "code",
      "source": [
        "#Lasso Regression"
      ],
      "metadata": {
        "id": "2OrQdCrnTHqv"
      },
      "execution_count": 46,
      "outputs": []
    },
    {
      "cell_type": "code",
      "source": [
        "from sklearn.linear_model import Lasso\n",
        "\n",
        "model = Lasso(alpha=0.1, \n",
        "              precompute=True, \n",
        "#               warm_start=True, \n",
        "              positive=True, \n",
        "              selection='random',\n",
        "              random_state=42)\n",
        "model.fit(x_train, y_train)\n",
        "\n",
        "test_pred = model.predict(x_test)\n",
        "train_pred = model.predict(x_train)\n",
        "\n",
        "print('Test set evaluation:\\n_____________________________________')\n",
        "print_evaluate(y_test, test_pred)\n",
        "print('====================================')\n",
        "print('Train set evaluation:\\n_____________________________________')\n",
        "print_evaluate(y_train, train_pred)\n",
        "\n",
        "results_df_2 = pd.DataFrame(data=[[\"Lasso Regression\", *evaluate(y_test, test_pred) , cross_val(Lasso())]], \n",
        "                            columns=['Model', 'MAE', 'MSE', 'RMSE', 'R2 Square', \"Cross Validation\"])\n",
        "results_df = results_df.append(results_df_2, ignore_index=True)"
      ],
      "metadata": {
        "colab": {
          "base_uri": "https://localhost:8080/"
        },
        "id": "RwbuTxyifzg0",
        "outputId": "8a62a6d0-bbf6-452d-ba6f-b8171385db28"
      },
      "execution_count": 47,
      "outputs": [
        {
          "output_type": "stream",
          "name": "stdout",
          "text": [
            "Test set evaluation:\n",
            "_____________________________________\n",
            "MAE: 2.735471258070514\n",
            "MSE: 10.771319750682443\n",
            "RMSE: 3.281968883259322\n",
            "R2 Square 0.775939481453102\n",
            "__________________________________\n",
            "====================================\n",
            "Train set evaluation:\n",
            "_____________________________________\n",
            "MAE: 2.726451187353302\n",
            "MSE: 10.765519221064444\n",
            "RMSE: 3.2810850676360777\n",
            "R2 Square 0.7792053729918522\n",
            "__________________________________\n"
          ]
        }
      ]
    },
    {
      "cell_type": "code",
      "source": [
        "#Elastic Net Regression\n",
        "\n",
        "from sklearn.linear_model import ElasticNet\n",
        "\n",
        "model = ElasticNet(alpha=0.1, l1_ratio=0.9, selection='random', random_state=42)\n",
        "model.fit(x_train, y_train)\n",
        "\n",
        "test_pred = model.predict(x_test)\n",
        "train_pred = model.predict(x_train)\n",
        "\n",
        "print('Test set evaluation:\\n_____________________________________')\n",
        "print_evaluate(y_test, test_pred)\n",
        "print('====================================')\n",
        "print('Train set evaluation:\\n_____________________________________')\n",
        "print_evaluate(y_train, train_pred)\n",
        "\n",
        "results_df_2 = pd.DataFrame(data=[[\"Elastic Net Regression\", *evaluate(y_test, test_pred) , cross_val(ElasticNet())]], \n",
        "                            columns=['Model', 'MAE', 'MSE', 'RMSE', 'R2 Square', \"Cross Validation\"])\n",
        "results_df = results_df.append(results_df_2, ignore_index=True)"
      ],
      "metadata": {
        "colab": {
          "base_uri": "https://localhost:8080/"
        },
        "id": "GSCGLIS7uFRS",
        "outputId": "b3a96ce4-e543-4e0c-b008-e31d873f6895"
      },
      "execution_count": 48,
      "outputs": [
        {
          "output_type": "stream",
          "name": "stdout",
          "text": [
            "Test set evaluation:\n",
            "_____________________________________\n",
            "MAE: 2.7354631849596993\n",
            "MSE: 10.77076554802591\n",
            "RMSE: 3.2818844507425777\n",
            "R2 Square 0.7759510097465216\n",
            "__________________________________\n",
            "====================================\n",
            "Train set evaluation:\n",
            "_____________________________________\n",
            "MAE: 2.7264498178355243\n",
            "MSE: 10.765506002399382\n",
            "RMSE: 3.2810830532614355\n",
            "R2 Square 0.779205644099094\n",
            "__________________________________\n"
          ]
        }
      ]
    },
    {
      "cell_type": "code",
      "source": [
        "#SVM Regressor\n",
        "\n",
        "from sklearn.svm import SVR\n",
        "\n",
        "svm_reg = SVR(kernel='rbf')\n",
        "svm_reg.fit(x_train, y_train)\n",
        "\n",
        "test_pred = svm_reg.predict(x_test)\n",
        "train_pred = svm_reg.predict(x_train)\n",
        "\n",
        "print('Test set evaluation:\\n_____________________________________')\n",
        "print_evaluate(y_test, test_pred)\n",
        "\n",
        "print('Train set evaluation:\\n_____________________________________')\n",
        "print_evaluate(y_train, train_pred)\n",
        "\n",
        "results_df_2 = pd.DataFrame(data=[[\"SVM Regressor\", *evaluate(y_test, test_pred), 0]], \n",
        "                            columns=['Model', 'MAE', 'MSE', 'RMSE', 'R2 Square', 'Cross Validation'])\n",
        "results_df = results_df.append(results_df_2, ignore_index=True)"
      ],
      "metadata": {
        "colab": {
          "base_uri": "https://localhost:8080/"
        },
        "id": "WoQBQ3XpvFz_",
        "outputId": "aa42ff62-6ede-4e2f-e6f7-a10105eca28d"
      },
      "execution_count": 49,
      "outputs": [
        {
          "output_type": "stream",
          "name": "stdout",
          "text": [
            "Test set evaluation:\n",
            "_____________________________________\n",
            "MAE: 1.0247639160695854\n",
            "MSE: 4.701570659407976\n",
            "RMSE: 2.168310554189131\n",
            "R2 Square 0.9021998803939425\n",
            "__________________________________\n",
            "Train set evaluation:\n",
            "_____________________________________\n",
            "MAE: 1.0024604800184507\n",
            "MSE: 4.0267734046190435\n",
            "RMSE: 2.006682188244826\n",
            "R2 Square 0.9174131861490206\n",
            "__________________________________\n"
          ]
        }
      ]
    },
    {
      "cell_type": "code",
      "source": [
        "results_df"
      ],
      "metadata": {
        "colab": {
          "base_uri": "https://localhost:8080/",
          "height": 238
        },
        "id": "4cSfbYzFssV1",
        "outputId": "1a6214b5-d889-42e7-b108-d981c387134d"
      },
      "execution_count": 50,
      "outputs": [
        {
          "output_type": "execute_result",
          "data": {
            "text/plain": [
              "                    Model       MAE        MSE      RMSE  R2 Square  \\\n",
              "0       Linear Regression  2.046714   6.569168  2.563039   0.863351   \n",
              "1        Ridge Regression  2.731020  10.766127  3.281178   0.776048   \n",
              "2   Polynomail Regression  0.613617   0.996178  0.998087   0.979278   \n",
              "3        Lasso Regression  2.735471  10.771320  3.281969   0.775939   \n",
              "4  Elastic Net Regression  2.735463  10.770766  3.281884   0.775951   \n",
              "5           SVM Regressor  1.024764   4.701571  2.168311   0.902200   \n",
              "\n",
              "   Cross Validation  \n",
              "0          0.863663  \n",
              "1          0.646372  \n",
              "2          0.000000  \n",
              "3          0.757002  \n",
              "4          0.725316  \n",
              "5          0.000000  "
            ],
            "text/html": [
              "\n",
              "  <div id=\"df-104a3b2d-b1cc-4d89-b67c-5d9969e26772\">\n",
              "    <div class=\"colab-df-container\">\n",
              "      <div>\n",
              "<style scoped>\n",
              "    .dataframe tbody tr th:only-of-type {\n",
              "        vertical-align: middle;\n",
              "    }\n",
              "\n",
              "    .dataframe tbody tr th {\n",
              "        vertical-align: top;\n",
              "    }\n",
              "\n",
              "    .dataframe thead th {\n",
              "        text-align: right;\n",
              "    }\n",
              "</style>\n",
              "<table border=\"1\" class=\"dataframe\">\n",
              "  <thead>\n",
              "    <tr style=\"text-align: right;\">\n",
              "      <th></th>\n",
              "      <th>Model</th>\n",
              "      <th>MAE</th>\n",
              "      <th>MSE</th>\n",
              "      <th>RMSE</th>\n",
              "      <th>R2 Square</th>\n",
              "      <th>Cross Validation</th>\n",
              "    </tr>\n",
              "  </thead>\n",
              "  <tbody>\n",
              "    <tr>\n",
              "      <th>0</th>\n",
              "      <td>Linear Regression</td>\n",
              "      <td>2.046714</td>\n",
              "      <td>6.569168</td>\n",
              "      <td>2.563039</td>\n",
              "      <td>0.863351</td>\n",
              "      <td>0.863663</td>\n",
              "    </tr>\n",
              "    <tr>\n",
              "      <th>1</th>\n",
              "      <td>Ridge Regression</td>\n",
              "      <td>2.731020</td>\n",
              "      <td>10.766127</td>\n",
              "      <td>3.281178</td>\n",
              "      <td>0.776048</td>\n",
              "      <td>0.646372</td>\n",
              "    </tr>\n",
              "    <tr>\n",
              "      <th>2</th>\n",
              "      <td>Polynomail Regression</td>\n",
              "      <td>0.613617</td>\n",
              "      <td>0.996178</td>\n",
              "      <td>0.998087</td>\n",
              "      <td>0.979278</td>\n",
              "      <td>0.000000</td>\n",
              "    </tr>\n",
              "    <tr>\n",
              "      <th>3</th>\n",
              "      <td>Lasso Regression</td>\n",
              "      <td>2.735471</td>\n",
              "      <td>10.771320</td>\n",
              "      <td>3.281969</td>\n",
              "      <td>0.775939</td>\n",
              "      <td>0.757002</td>\n",
              "    </tr>\n",
              "    <tr>\n",
              "      <th>4</th>\n",
              "      <td>Elastic Net Regression</td>\n",
              "      <td>2.735463</td>\n",
              "      <td>10.770766</td>\n",
              "      <td>3.281884</td>\n",
              "      <td>0.775951</td>\n",
              "      <td>0.725316</td>\n",
              "    </tr>\n",
              "    <tr>\n",
              "      <th>5</th>\n",
              "      <td>SVM Regressor</td>\n",
              "      <td>1.024764</td>\n",
              "      <td>4.701571</td>\n",
              "      <td>2.168311</td>\n",
              "      <td>0.902200</td>\n",
              "      <td>0.000000</td>\n",
              "    </tr>\n",
              "  </tbody>\n",
              "</table>\n",
              "</div>\n",
              "      <button class=\"colab-df-convert\" onclick=\"convertToInteractive('df-104a3b2d-b1cc-4d89-b67c-5d9969e26772')\"\n",
              "              title=\"Convert this dataframe to an interactive table.\"\n",
              "              style=\"display:none;\">\n",
              "        \n",
              "  <svg xmlns=\"http://www.w3.org/2000/svg\" height=\"24px\"viewBox=\"0 0 24 24\"\n",
              "       width=\"24px\">\n",
              "    <path d=\"M0 0h24v24H0V0z\" fill=\"none\"/>\n",
              "    <path d=\"M18.56 5.44l.94 2.06.94-2.06 2.06-.94-2.06-.94-.94-2.06-.94 2.06-2.06.94zm-11 1L8.5 8.5l.94-2.06 2.06-.94-2.06-.94L8.5 2.5l-.94 2.06-2.06.94zm10 10l.94 2.06.94-2.06 2.06-.94-2.06-.94-.94-2.06-.94 2.06-2.06.94z\"/><path d=\"M17.41 7.96l-1.37-1.37c-.4-.4-.92-.59-1.43-.59-.52 0-1.04.2-1.43.59L10.3 9.45l-7.72 7.72c-.78.78-.78 2.05 0 2.83L4 21.41c.39.39.9.59 1.41.59.51 0 1.02-.2 1.41-.59l7.78-7.78 2.81-2.81c.8-.78.8-2.07 0-2.86zM5.41 20L4 18.59l7.72-7.72 1.47 1.35L5.41 20z\"/>\n",
              "  </svg>\n",
              "      </button>\n",
              "      \n",
              "  <style>\n",
              "    .colab-df-container {\n",
              "      display:flex;\n",
              "      flex-wrap:wrap;\n",
              "      gap: 12px;\n",
              "    }\n",
              "\n",
              "    .colab-df-convert {\n",
              "      background-color: #E8F0FE;\n",
              "      border: none;\n",
              "      border-radius: 50%;\n",
              "      cursor: pointer;\n",
              "      display: none;\n",
              "      fill: #1967D2;\n",
              "      height: 32px;\n",
              "      padding: 0 0 0 0;\n",
              "      width: 32px;\n",
              "    }\n",
              "\n",
              "    .colab-df-convert:hover {\n",
              "      background-color: #E2EBFA;\n",
              "      box-shadow: 0px 1px 2px rgba(60, 64, 67, 0.3), 0px 1px 3px 1px rgba(60, 64, 67, 0.15);\n",
              "      fill: #174EA6;\n",
              "    }\n",
              "\n",
              "    [theme=dark] .colab-df-convert {\n",
              "      background-color: #3B4455;\n",
              "      fill: #D2E3FC;\n",
              "    }\n",
              "\n",
              "    [theme=dark] .colab-df-convert:hover {\n",
              "      background-color: #434B5C;\n",
              "      box-shadow: 0px 1px 3px 1px rgba(0, 0, 0, 0.15);\n",
              "      filter: drop-shadow(0px 1px 2px rgba(0, 0, 0, 0.3));\n",
              "      fill: #FFFFFF;\n",
              "    }\n",
              "  </style>\n",
              "\n",
              "      <script>\n",
              "        const buttonEl =\n",
              "          document.querySelector('#df-104a3b2d-b1cc-4d89-b67c-5d9969e26772 button.colab-df-convert');\n",
              "        buttonEl.style.display =\n",
              "          google.colab.kernel.accessAllowed ? 'block' : 'none';\n",
              "\n",
              "        async function convertToInteractive(key) {\n",
              "          const element = document.querySelector('#df-104a3b2d-b1cc-4d89-b67c-5d9969e26772');\n",
              "          const dataTable =\n",
              "            await google.colab.kernel.invokeFunction('convertToInteractive',\n",
              "                                                     [key], {});\n",
              "          if (!dataTable) return;\n",
              "\n",
              "          const docLinkHtml = 'Like what you see? Visit the ' +\n",
              "            '<a target=\"_blank\" href=https://colab.research.google.com/notebooks/data_table.ipynb>data table notebook</a>'\n",
              "            + ' to learn more about interactive tables.';\n",
              "          element.innerHTML = '';\n",
              "          dataTable['output_type'] = 'display_data';\n",
              "          await google.colab.output.renderOutput(dataTable, element);\n",
              "          const docLink = document.createElement('div');\n",
              "          docLink.innerHTML = docLinkHtml;\n",
              "          element.appendChild(docLink);\n",
              "        }\n",
              "      </script>\n",
              "    </div>\n",
              "  </div>\n",
              "  "
            ]
          },
          "metadata": {},
          "execution_count": 50
        }
      ]
    },
    {
      "cell_type": "code",
      "source": [
        "#Polynomail Regression model have the best results"
      ],
      "metadata": {
        "id": "NSZSTF02g6kK"
      },
      "execution_count": 51,
      "outputs": []
    },
    {
      "cell_type": "code",
      "source": [
        "#Predicing Amplitude_water for sensor in water"
      ],
      "metadata": {
        "id": "6OVxlIL1yBVB"
      },
      "execution_count": 52,
      "outputs": []
    },
    {
      "cell_type": "code",
      "source": [
        "x = data1.drop('Amplitude_water', axis=1)\n",
        "y = data1.Amplitude_water\n",
        "\n",
        "x_train, x_test, y_train, y_test = train_test_split(x, y, test_size= 0.2, random_state= 12)"
      ],
      "metadata": {
        "id": "PMrF5dF3yJt9"
      },
      "execution_count": 53,
      "outputs": []
    },
    {
      "cell_type": "code",
      "source": [
        "#Linear Regression"
      ],
      "metadata": {
        "id": "kiVawzenTxov"
      },
      "execution_count": 54,
      "outputs": []
    },
    {
      "cell_type": "code",
      "source": [
        "regressor_linear = LinearRegression()\n",
        "regressor_linear.fit(x_train, y_train)"
      ],
      "metadata": {
        "colab": {
          "base_uri": "https://localhost:8080/"
        },
        "outputId": "025826f5-e101-4246-d7b0-6524387d4240",
        "id": "5aEpqgSeydlo"
      },
      "execution_count": 55,
      "outputs": [
        {
          "output_type": "execute_result",
          "data": {
            "text/plain": [
              "LinearRegression()"
            ]
          },
          "metadata": {},
          "execution_count": 55
        }
      ]
    },
    {
      "cell_type": "code",
      "source": [
        "# print the intercept\n",
        "print(regressor_linear.intercept_)"
      ],
      "metadata": {
        "colab": {
          "base_uri": "https://localhost:8080/"
        },
        "outputId": "9e4ff561-21e0-4a58-c0ab-ecf7f41227e0",
        "id": "ojxl1qSAydlq"
      },
      "execution_count": 56,
      "outputs": [
        {
          "output_type": "stream",
          "name": "stdout",
          "text": [
            "42.10540703466811\n"
          ]
        }
      ]
    },
    {
      "cell_type": "code",
      "source": [
        "coeff_df = pd.DataFrame(regressor_linear.coef_, x.columns, columns=['Coefficient'])\n",
        "coeff_df"
      ],
      "metadata": {
        "colab": {
          "base_uri": "https://localhost:8080/",
          "height": 175
        },
        "outputId": "61952ccc-476b-41c4-cfa6-1b93508fc88d",
        "id": "HTeCf2T1ydlr"
      },
      "execution_count": 57,
      "outputs": [
        {
          "output_type": "execute_result",
          "data": {
            "text/plain": [
              "                 Coefficient\n",
              "Wavelength_air -2.968727e+07\n",
              "Amplitude_air   8.786241e-01\n",
              "score_air_izo   6.625102e-04\n",
              "score_air_wat   8.377677e-04"
            ],
            "text/html": [
              "\n",
              "  <div id=\"df-306a4775-b932-43fc-a974-26e85021495c\">\n",
              "    <div class=\"colab-df-container\">\n",
              "      <div>\n",
              "<style scoped>\n",
              "    .dataframe tbody tr th:only-of-type {\n",
              "        vertical-align: middle;\n",
              "    }\n",
              "\n",
              "    .dataframe tbody tr th {\n",
              "        vertical-align: top;\n",
              "    }\n",
              "\n",
              "    .dataframe thead th {\n",
              "        text-align: right;\n",
              "    }\n",
              "</style>\n",
              "<table border=\"1\" class=\"dataframe\">\n",
              "  <thead>\n",
              "    <tr style=\"text-align: right;\">\n",
              "      <th></th>\n",
              "      <th>Coefficient</th>\n",
              "    </tr>\n",
              "  </thead>\n",
              "  <tbody>\n",
              "    <tr>\n",
              "      <th>Wavelength_air</th>\n",
              "      <td>-2.968727e+07</td>\n",
              "    </tr>\n",
              "    <tr>\n",
              "      <th>Amplitude_air</th>\n",
              "      <td>8.786241e-01</td>\n",
              "    </tr>\n",
              "    <tr>\n",
              "      <th>score_air_izo</th>\n",
              "      <td>6.625102e-04</td>\n",
              "    </tr>\n",
              "    <tr>\n",
              "      <th>score_air_wat</th>\n",
              "      <td>8.377677e-04</td>\n",
              "    </tr>\n",
              "  </tbody>\n",
              "</table>\n",
              "</div>\n",
              "      <button class=\"colab-df-convert\" onclick=\"convertToInteractive('df-306a4775-b932-43fc-a974-26e85021495c')\"\n",
              "              title=\"Convert this dataframe to an interactive table.\"\n",
              "              style=\"display:none;\">\n",
              "        \n",
              "  <svg xmlns=\"http://www.w3.org/2000/svg\" height=\"24px\"viewBox=\"0 0 24 24\"\n",
              "       width=\"24px\">\n",
              "    <path d=\"M0 0h24v24H0V0z\" fill=\"none\"/>\n",
              "    <path d=\"M18.56 5.44l.94 2.06.94-2.06 2.06-.94-2.06-.94-.94-2.06-.94 2.06-2.06.94zm-11 1L8.5 8.5l.94-2.06 2.06-.94-2.06-.94L8.5 2.5l-.94 2.06-2.06.94zm10 10l.94 2.06.94-2.06 2.06-.94-2.06-.94-.94-2.06-.94 2.06-2.06.94z\"/><path d=\"M17.41 7.96l-1.37-1.37c-.4-.4-.92-.59-1.43-.59-.52 0-1.04.2-1.43.59L10.3 9.45l-7.72 7.72c-.78.78-.78 2.05 0 2.83L4 21.41c.39.39.9.59 1.41.59.51 0 1.02-.2 1.41-.59l7.78-7.78 2.81-2.81c.8-.78.8-2.07 0-2.86zM5.41 20L4 18.59l7.72-7.72 1.47 1.35L5.41 20z\"/>\n",
              "  </svg>\n",
              "      </button>\n",
              "      \n",
              "  <style>\n",
              "    .colab-df-container {\n",
              "      display:flex;\n",
              "      flex-wrap:wrap;\n",
              "      gap: 12px;\n",
              "    }\n",
              "\n",
              "    .colab-df-convert {\n",
              "      background-color: #E8F0FE;\n",
              "      border: none;\n",
              "      border-radius: 50%;\n",
              "      cursor: pointer;\n",
              "      display: none;\n",
              "      fill: #1967D2;\n",
              "      height: 32px;\n",
              "      padding: 0 0 0 0;\n",
              "      width: 32px;\n",
              "    }\n",
              "\n",
              "    .colab-df-convert:hover {\n",
              "      background-color: #E2EBFA;\n",
              "      box-shadow: 0px 1px 2px rgba(60, 64, 67, 0.3), 0px 1px 3px 1px rgba(60, 64, 67, 0.15);\n",
              "      fill: #174EA6;\n",
              "    }\n",
              "\n",
              "    [theme=dark] .colab-df-convert {\n",
              "      background-color: #3B4455;\n",
              "      fill: #D2E3FC;\n",
              "    }\n",
              "\n",
              "    [theme=dark] .colab-df-convert:hover {\n",
              "      background-color: #434B5C;\n",
              "      box-shadow: 0px 1px 3px 1px rgba(0, 0, 0, 0.15);\n",
              "      filter: drop-shadow(0px 1px 2px rgba(0, 0, 0, 0.3));\n",
              "      fill: #FFFFFF;\n",
              "    }\n",
              "  </style>\n",
              "\n",
              "      <script>\n",
              "        const buttonEl =\n",
              "          document.querySelector('#df-306a4775-b932-43fc-a974-26e85021495c button.colab-df-convert');\n",
              "        buttonEl.style.display =\n",
              "          google.colab.kernel.accessAllowed ? 'block' : 'none';\n",
              "\n",
              "        async function convertToInteractive(key) {\n",
              "          const element = document.querySelector('#df-306a4775-b932-43fc-a974-26e85021495c');\n",
              "          const dataTable =\n",
              "            await google.colab.kernel.invokeFunction('convertToInteractive',\n",
              "                                                     [key], {});\n",
              "          if (!dataTable) return;\n",
              "\n",
              "          const docLinkHtml = 'Like what you see? Visit the ' +\n",
              "            '<a target=\"_blank\" href=https://colab.research.google.com/notebooks/data_table.ipynb>data table notebook</a>'\n",
              "            + ' to learn more about interactive tables.';\n",
              "          element.innerHTML = '';\n",
              "          dataTable['output_type'] = 'display_data';\n",
              "          await google.colab.output.renderOutput(dataTable, element);\n",
              "          const docLink = document.createElement('div');\n",
              "          docLink.innerHTML = docLinkHtml;\n",
              "          element.appendChild(docLink);\n",
              "        }\n",
              "      </script>\n",
              "    </div>\n",
              "  </div>\n",
              "  "
            ]
          },
          "metadata": {},
          "execution_count": 57
        }
      ]
    },
    {
      "cell_type": "code",
      "source": [
        "pred = regressor_linear.predict(x_test)"
      ],
      "metadata": {
        "id": "FIcmzhMbydlt"
      },
      "execution_count": 58,
      "outputs": []
    },
    {
      "cell_type": "code",
      "source": [
        "test_pred = regressor_linear.predict(x_test)\n",
        "train_pred = regressor_linear.predict(x_train)\n",
        "\n",
        "print('Test set evaluation:\\n_____________________________________')\n",
        "print_evaluate(y_test, test_pred)\n",
        "print('Train set evaluation:\\n_____________________________________')\n",
        "print_evaluate(y_train, train_pred)\n",
        "\n",
        "results_df = pd.DataFrame(data=[[\"Linear Regression\", *evaluate(y_test, test_pred) , cross_val(LinearRegression())]], \n",
        "                          columns=['Model', 'MAE', 'MSE', 'RMSE', 'R2 Square', \"Cross Validation\"])"
      ],
      "metadata": {
        "colab": {
          "base_uri": "https://localhost:8080/"
        },
        "outputId": "b8046800-6819-4e0b-8a7b-351780db8c2d",
        "id": "i8oV8QrIydlt"
      },
      "execution_count": 59,
      "outputs": [
        {
          "output_type": "stream",
          "name": "stdout",
          "text": [
            "Test set evaluation:\n",
            "_____________________________________\n",
            "MAE: 1.7580767598349294\n",
            "MSE: 4.743169285587434\n",
            "RMSE: 2.177881834624513\n",
            "R2 Square 0.8887256997166656\n",
            "__________________________________\n",
            "Train set evaluation:\n",
            "_____________________________________\n",
            "MAE: 1.7498904602156224\n",
            "MSE: 4.70844786338101\n",
            "RMSE: 2.1698958185546626\n",
            "R2 Square 0.8908610808456366\n",
            "__________________________________\n"
          ]
        }
      ]
    },
    {
      "cell_type": "code",
      "source": [
        "#Ridge\n",
        "\n",
        "from sklearn.linear_model import Ridge\n",
        "\n",
        "model = Ridge(alpha=100, solver='cholesky', tol=0.0001, random_state=42)\n",
        "model.fit(x_train, y_train)\n",
        "pred = model.predict(x_test)\n",
        "\n",
        "test_pred = model.predict(x_test)\n",
        "train_pred = model.predict(x_train)\n",
        "\n",
        "print('Test set evaluation:\\n_____________________________________')\n",
        "print_evaluate(y_test, test_pred)\n",
        "print('====================================')\n",
        "print('Train set evaluation:\\n_____________________________________')\n",
        "print_evaluate(y_train, train_pred)\n",
        "\n",
        "results_df_2 = pd.DataFrame(data=[[\"Ridge Regression\", *evaluate(y_test, test_pred) , cross_val(Ridge())]], \n",
        "                            columns=['Model', 'MAE', 'MSE', 'RMSE', 'R2 Square', \"Cross Validation\"])\n",
        "results_df = results_df.append(results_df_2, ignore_index=True)"
      ],
      "metadata": {
        "colab": {
          "base_uri": "https://localhost:8080/"
        },
        "outputId": "e57e5a80-aabb-4d52-f0e4-395501e07f93",
        "id": "whUN2hwazYct"
      },
      "execution_count": 60,
      "outputs": [
        {
          "output_type": "stream",
          "name": "stdout",
          "text": [
            "Test set evaluation:\n",
            "_____________________________________\n",
            "MAE: 2.5604596473945054\n",
            "MSE: 8.982286239788506\n",
            "RMSE: 2.9970462525273955\n",
            "R2 Square 0.7892764191836551\n",
            "__________________________________\n",
            "====================================\n",
            "Train set evaluation:\n",
            "_____________________________________\n",
            "MAE: 2.545378445566579\n",
            "MSE: 8.93267815456807\n",
            "RMSE: 2.9887586310319656\n",
            "R2 Square 0.7929460265397735\n",
            "__________________________________\n"
          ]
        }
      ]
    },
    {
      "cell_type": "code",
      "source": [
        "#Plot contains sensor in water predicted by Ridge Regressor comparison to reality characteristics"
      ],
      "metadata": {
        "id": "bsc8bg9ZgRln"
      },
      "execution_count": 61,
      "outputs": []
    },
    {
      "cell_type": "code",
      "source": [
        "plt.rcParams[\"figure.figsize\"] = [10.50, 4.50]\n",
        "plt.rcParams[\"figure.autolayout\"] = True\n",
        "plt.subplot(111)\n",
        "plt.plot(sensor01_water.Wavelength_water, model.predict(x)[0:3001], color='blue', lw=3)\n",
        "plt.plot(sensor01_water.Wavelength_water, sensor01_water.Amplitude_water, color='green', lw=3)"
      ],
      "metadata": {
        "colab": {
          "base_uri": "https://localhost:8080/",
          "height": 350
        },
        "id": "Z7L_lAqfgRuq",
        "outputId": "b409480d-548c-4a59-9a60-0a740129e404"
      },
      "execution_count": 62,
      "outputs": [
        {
          "output_type": "execute_result",
          "data": {
            "text/plain": [
              "[<matplotlib.lines.Line2D at 0x7f62e9759280>]"
            ]
          },
          "metadata": {},
          "execution_count": 62
        },
        {
          "output_type": "display_data",
          "data": {
            "text/plain": [
              "<Figure size 756x324 with 1 Axes>"
            ],
            "image/png": "[encoded data removed]"
          },
          "metadata": {
            "needs_background": "light"
          }
        }
      ]
    },
    {
      "cell_type": "code",
      "source": [
        "#Polynomail Regression\n",
        "\n",
        "from sklearn.preprocessing import PolynomialFeatures\n",
        "\n",
        "poly_reg = PolynomialFeatures(degree=2)\n",
        "\n",
        "X_train_2_d = poly_reg.fit_transform(x_train)\n",
        "X_test_2_d = poly_reg.transform(x_test)\n",
        "\n",
        "lin_reg = LinearRegression(normalize=True)\n",
        "lin_reg.fit(X_train_2_d,y_train)\n",
        "\n",
        "test_pred = lin_reg.predict(X_test_2_d)\n",
        "train_pred = lin_reg.predict(X_train_2_d)\n",
        "\n",
        "print('Test set evaluation:\\n_____________________________________')\n",
        "print_evaluate(y_test, test_pred)\n",
        "print('====================================')\n",
        "print('Train set evaluation:\\n_____________________________________')\n",
        "print_evaluate(y_train, train_pred)\n",
        "\n",
        "results_df_2 = pd.DataFrame(data=[[\"Polynomail Regression\", *evaluate(y_test, test_pred), 0]], \n",
        "                            columns=['Model', 'MAE', 'MSE', 'RMSE', 'R2 Square', 'Cross Validation'])\n",
        "results_df = results_df.append(results_df_2, ignore_index=True)"
      ],
      "metadata": {
        "colab": {
          "base_uri": "https://localhost:8080/"
        },
        "outputId": "9be8c42b-fdc8-4a71-ca88-9e3a9c6134cc",
        "id": "ZCd_Pj83zYcu"
      },
      "execution_count": 63,
      "outputs": [
        {
          "output_type": "stream",
          "name": "stdout",
          "text": [
            "Test set evaluation:\n",
            "_____________________________________\n",
            "MAE: 0.4936699374732754\n",
            "MSE: 0.6134925156782665\n",
            "RMSE: 0.7832576304628424\n",
            "R2 Square 0.985607523935822\n",
            "__________________________________\n",
            "====================================\n",
            "Train set evaluation:\n",
            "_____________________________________\n",
            "MAE: 0.49371847728933094\n",
            "MSE: 0.5559073581274637\n",
            "RMSE: 0.7455919514905346\n",
            "R2 Square 0.9871144101036254\n",
            "__________________________________\n"
          ]
        }
      ]
    },
    {
      "cell_type": "code",
      "source": [
        "#Lasso Regression\n",
        "\n",
        "from sklearn.linear_model import Lasso\n",
        "\n",
        "model = Lasso(alpha=0.1, \n",
        "              precompute=True, \n",
        "#               warm_start=True, \n",
        "              positive=True, \n",
        "              selection='random',\n",
        "              random_state=42)\n",
        "model.fit(x_train, y_train)\n",
        "\n",
        "test_pred = model.predict(x_test)\n",
        "train_pred = model.predict(x_train)\n",
        "\n",
        "print('Test set evaluation:\\n_____________________________________')\n",
        "print_evaluate(y_test, test_pred)\n",
        "print('====================================')\n",
        "print('Train set evaluation:\\n_____________________________________')\n",
        "print_evaluate(y_train, train_pred)\n",
        "\n",
        "results_df_2 = pd.DataFrame(data=[[\"Lasso Regression\", *evaluate(y_test, test_pred) , cross_val(Lasso())]], \n",
        "                            columns=['Model', 'MAE', 'MSE', 'RMSE', 'R2 Square', \"Cross Validation\"])\n",
        "results_df = results_df.append(results_df_2, ignore_index=True)"
      ],
      "metadata": {
        "colab": {
          "base_uri": "https://localhost:8080/"
        },
        "outputId": "ec9f081d-d2f6-49eb-e33e-06adfa018ff2",
        "id": "209tFVL8zYcw"
      },
      "execution_count": 64,
      "outputs": [
        {
          "output_type": "stream",
          "name": "stdout",
          "text": [
            "Test set evaluation:\n",
            "_____________________________________\n",
            "MAE: 2.566750879855618\n",
            "MSE: 8.987568908997076\n",
            "RMSE: 2.997927435578966\n",
            "R2 Square 0.7891524882664942\n",
            "__________________________________\n",
            "====================================\n",
            "Train set evaluation:\n",
            "_____________________________________\n",
            "MAE: 2.5518171705196506\n",
            "MSE: 8.933274563398504\n",
            "RMSE: 2.988858404708812\n",
            "R2 Square 0.7929322021507144\n",
            "__________________________________\n"
          ]
        }
      ]
    },
    {
      "cell_type": "code",
      "source": [
        "#Elastic Net Regression\n",
        "\n",
        "from sklearn.linear_model import ElasticNet\n",
        "\n",
        "model = ElasticNet(alpha=0.1, l1_ratio=0.9, selection='random', random_state=42)\n",
        "model.fit(x_train, y_train)\n",
        "\n",
        "test_pred = model.predict(x_test)\n",
        "train_pred = model.predict(x_train)\n",
        "\n",
        "print('Test set evaluation:\\n_____________________________________')\n",
        "print_evaluate(y_test, test_pred)\n",
        "print('====================================')\n",
        "print('Train set evaluation:\\n_____________________________________')\n",
        "print_evaluate(y_train, train_pred)\n",
        "\n",
        "results_df_2 = pd.DataFrame(data=[[\"Elastic Net Regression\", *evaluate(y_test, test_pred) , cross_val(ElasticNet())]], \n",
        "                            columns=['Model', 'MAE', 'MSE', 'RMSE', 'R2 Square', \"Cross Validation\"])\n",
        "results_df = results_df.append(results_df_2, ignore_index=True)"
      ],
      "metadata": {
        "colab": {
          "base_uri": "https://localhost:8080/"
        },
        "outputId": "002881f2-67b7-403a-865e-50c8c42b9dda",
        "id": "qGi4hSW0zYcw"
      },
      "execution_count": 65,
      "outputs": [
        {
          "output_type": "stream",
          "name": "stdout",
          "text": [
            "Test set evaluation:\n",
            "_____________________________________\n",
            "MAE: 2.566740301042473\n",
            "MSE: 8.98702997111194\n",
            "RMSE: 2.997837549153046\n",
            "R2 Square 0.7891651316980173\n",
            "__________________________________\n",
            "====================================\n",
            "Train set evaluation:\n",
            "_____________________________________\n",
            "MAE: 2.5518232636009874\n",
            "MSE: 8.93325590014991\n",
            "RMSE: 2.9888552825705546\n",
            "R2 Square 0.7929326347533127\n",
            "__________________________________\n"
          ]
        }
      ]
    },
    {
      "cell_type": "code",
      "source": [
        "#SVM Regressor\n",
        "\n",
        "from sklearn.svm import SVR\n",
        "\n",
        "svm_reg = SVR(kernel='rbf')\n",
        "svm_reg.fit(x_train, y_train)\n",
        "\n",
        "test_pred = svm_reg.predict(x_test)\n",
        "train_pred = svm_reg.predict(x_train)\n",
        "\n",
        "print('Test set evaluation:\\n_____________________________________')\n",
        "print_evaluate(y_test, test_pred)\n",
        "\n",
        "print('Train set evaluation:\\n_____________________________________')\n",
        "print_evaluate(y_train, train_pred)\n",
        "\n",
        "results_df_2 = pd.DataFrame(data=[[\"SVM Regressor\", *evaluate(y_test, test_pred), 0]], \n",
        "                            columns=['Model', 'MAE', 'MSE', 'RMSE', 'R2 Square', 'Cross Validation'])\n",
        "results_df = results_df.append(results_df_2, ignore_index=True)"
      ],
      "metadata": {
        "colab": {
          "base_uri": "https://localhost:8080/"
        },
        "outputId": "f97a9b49-9d6d-403d-edb8-dfe08bc18402",
        "id": "dSI-7Au6zYcw"
      },
      "execution_count": 66,
      "outputs": [
        {
          "output_type": "stream",
          "name": "stdout",
          "text": [
            "Test set evaluation:\n",
            "_____________________________________\n",
            "MAE: 0.8689845089538558\n",
            "MSE: 3.932669507877757\n",
            "RMSE: 1.983095940159668\n",
            "R2 Square 0.9077399474093395\n",
            "__________________________________\n",
            "Train set evaluation:\n",
            "_____________________________________\n",
            "MAE: 0.8459334765870518\n",
            "MSE: 3.2950805795336238\n",
            "RMSE: 1.8152356815393487\n",
            "R2 Square 0.9236220632761561\n",
            "__________________________________\n"
          ]
        }
      ]
    },
    {
      "cell_type": "code",
      "source": [
        "results_df"
      ],
      "metadata": {
        "colab": {
          "base_uri": "https://localhost:8080/",
          "height": 238
        },
        "id": "hcobS7Q8zsiv",
        "outputId": "ec9310ee-5e11-43d2-9433-abe1d1b63645"
      },
      "execution_count": 67,
      "outputs": [
        {
          "output_type": "execute_result",
          "data": {
            "text/plain": [
              "                    Model       MAE       MSE      RMSE  R2 Square  \\\n",
              "0       Linear Regression  1.758077  4.743169  2.177882   0.888726   \n",
              "1        Ridge Regression  2.560460  8.982286  2.997046   0.789276   \n",
              "2   Polynomail Regression  0.493670  0.613493  0.783258   0.985608   \n",
              "3        Lasso Regression  2.566751  8.987569  2.997927   0.789152   \n",
              "4  Elastic Net Regression  2.566740  8.987030  2.997838   0.789165   \n",
              "5           SVM Regressor  0.868985  3.932670  1.983096   0.907740   \n",
              "\n",
              "   Cross Validation  \n",
              "0          0.889047  \n",
              "1          0.644383  \n",
              "2          0.000000  \n",
              "3          0.769125  \n",
              "4          0.733529  \n",
              "5          0.000000  "
            ],
            "text/html": [
              "\n",
              "  <div id=\"df-30f9bb6c-c8be-4326-acc5-fa291b5c5a96\">\n",
              "    <div class=\"colab-df-container\">\n",
              "      <div>\n",
              "<style scoped>\n",
              "    .dataframe tbody tr th:only-of-type {\n",
              "        vertical-align: middle;\n",
              "    }\n",
              "\n",
              "    .dataframe tbody tr th {\n",
              "        vertical-align: top;\n",
              "    }\n",
              "\n",
              "    .dataframe thead th {\n",
              "        text-align: right;\n",
              "    }\n",
              "</style>\n",
              "<table border=\"1\" class=\"dataframe\">\n",
              "  <thead>\n",
              "    <tr style=\"text-align: right;\">\n",
              "      <th></th>\n",
              "      <th>Model</th>\n",
              "      <th>MAE</th>\n",
              "      <th>MSE</th>\n",
              "      <th>RMSE</th>\n",
              "      <th>R2 Square</th>\n",
              "      <th>Cross Validation</th>\n",
              "    </tr>\n",
              "  </thead>\n",
              "  <tbody>\n",
              "    <tr>\n",
              "      <th>0</th>\n",
              "      <td>Linear Regression</td>\n",
              "      <td>1.758077</td>\n",
              "      <td>4.743169</td>\n",
              "      <td>2.177882</td>\n",
              "      <td>0.888726</td>\n",
              "      <td>0.889047</td>\n",
              "    </tr>\n",
              "    <tr>\n",
              "      <th>1</th>\n",
              "      <td>Ridge Regression</td>\n",
              "      <td>2.560460</td>\n",
              "      <td>8.982286</td>\n",
              "      <td>2.997046</td>\n",
              "      <td>0.789276</td>\n",
              "      <td>0.644383</td>\n",
              "    </tr>\n",
              "    <tr>\n",
              "      <th>2</th>\n",
              "      <td>Polynomail Regression</td>\n",
              "      <td>0.493670</td>\n",
              "      <td>0.613493</td>\n",
              "      <td>0.783258</td>\n",
              "      <td>0.985608</td>\n",
              "      <td>0.000000</td>\n",
              "    </tr>\n",
              "    <tr>\n",
              "      <th>3</th>\n",
              "      <td>Lasso Regression</td>\n",
              "      <td>2.566751</td>\n",
              "      <td>8.987569</td>\n",
              "      <td>2.997927</td>\n",
              "      <td>0.789152</td>\n",
              "      <td>0.769125</td>\n",
              "    </tr>\n",
              "    <tr>\n",
              "      <th>4</th>\n",
              "      <td>Elastic Net Regression</td>\n",
              "      <td>2.566740</td>\n",
              "      <td>8.987030</td>\n",
              "      <td>2.997838</td>\n",
              "      <td>0.789165</td>\n",
              "      <td>0.733529</td>\n",
              "    </tr>\n",
              "    <tr>\n",
              "      <th>5</th>\n",
              "      <td>SVM Regressor</td>\n",
              "      <td>0.868985</td>\n",
              "      <td>3.932670</td>\n",
              "      <td>1.983096</td>\n",
              "      <td>0.907740</td>\n",
              "      <td>0.000000</td>\n",
              "    </tr>\n",
              "  </tbody>\n",
              "</table>\n",
              "</div>\n",
              "      <button class=\"colab-df-convert\" onclick=\"convertToInteractive('df-30f9bb6c-c8be-4326-acc5-fa291b5c5a96')\"\n",
              "              title=\"Convert this dataframe to an interactive table.\"\n",
              "              style=\"display:none;\">\n",
              "        \n",
              "  <svg xmlns=\"http://www.w3.org/2000/svg\" height=\"24px\"viewBox=\"0 0 24 24\"\n",
              "       width=\"24px\">\n",
              "    <path d=\"M0 0h24v24H0V0z\" fill=\"none\"/>\n",
              "    <path d=\"M18.56 5.44l.94 2.06.94-2.06 2.06-.94-2.06-.94-.94-2.06-.94 2.06-2.06.94zm-11 1L8.5 8.5l.94-2.06 2.06-.94-2.06-.94L8.5 2.5l-.94 2.06-2.06.94zm10 10l.94 2.06.94-2.06 2.06-.94-2.06-.94-.94-2.06-.94 2.06-2.06.94z\"/><path d=\"M17.41 7.96l-1.37-1.37c-.4-.4-.92-.59-1.43-.59-.52 0-1.04.2-1.43.59L10.3 9.45l-7.72 7.72c-.78.78-.78 2.05 0 2.83L4 21.41c.39.39.9.59 1.41.59.51 0 1.02-.2 1.41-.59l7.78-7.78 2.81-2.81c.8-.78.8-2.07 0-2.86zM5.41 20L4 18.59l7.72-7.72 1.47 1.35L5.41 20z\"/>\n",
              "  </svg>\n",
              "      </button>\n",
              "      \n",
              "  <style>\n",
              "    .colab-df-container {\n",
              "      display:flex;\n",
              "      flex-wrap:wrap;\n",
              "      gap: 12px;\n",
              "    }\n",
              "\n",
              "    .colab-df-convert {\n",
              "      background-color: #E8F0FE;\n",
              "      border: none;\n",
              "      border-radius: 50%;\n",
              "      cursor: pointer;\n",
              "      display: none;\n",
              "      fill: #1967D2;\n",
              "      height: 32px;\n",
              "      padding: 0 0 0 0;\n",
              "      width: 32px;\n",
              "    }\n",
              "\n",
              "    .colab-df-convert:hover {\n",
              "      background-color: #E2EBFA;\n",
              "      box-shadow: 0px 1px 2px rgba(60, 64, 67, 0.3), 0px 1px 3px 1px rgba(60, 64, 67, 0.15);\n",
              "      fill: #174EA6;\n",
              "    }\n",
              "\n",
              "    [theme=dark] .colab-df-convert {\n",
              "      background-color: #3B4455;\n",
              "      fill: #D2E3FC;\n",
              "    }\n",
              "\n",
              "    [theme=dark] .colab-df-convert:hover {\n",
              "      background-color: #434B5C;\n",
              "      box-shadow: 0px 1px 3px 1px rgba(0, 0, 0, 0.15);\n",
              "      filter: drop-shadow(0px 1px 2px rgba(0, 0, 0, 0.3));\n",
              "      fill: #FFFFFF;\n",
              "    }\n",
              "  </style>\n",
              "\n",
              "      <script>\n",
              "        const buttonEl =\n",
              "          document.querySelector('#df-30f9bb6c-c8be-4326-acc5-fa291b5c5a96 button.colab-df-convert');\n",
              "        buttonEl.style.display =\n",
              "          google.colab.kernel.accessAllowed ? 'block' : 'none';\n",
              "\n",
              "        async function convertToInteractive(key) {\n",
              "          const element = document.querySelector('#df-30f9bb6c-c8be-4326-acc5-fa291b5c5a96');\n",
              "          const dataTable =\n",
              "            await google.colab.kernel.invokeFunction('convertToInteractive',\n",
              "                                                     [key], {});\n",
              "          if (!dataTable) return;\n",
              "\n",
              "          const docLinkHtml = 'Like what you see? Visit the ' +\n",
              "            '<a target=\"_blank\" href=https://colab.research.google.com/notebooks/data_table.ipynb>data table notebook</a>'\n",
              "            + ' to learn more about interactive tables.';\n",
              "          element.innerHTML = '';\n",
              "          dataTable['output_type'] = 'display_data';\n",
              "          await google.colab.output.renderOutput(dataTable, element);\n",
              "          const docLink = document.createElement('div');\n",
              "          docLink.innerHTML = docLinkHtml;\n",
              "          element.appendChild(docLink);\n",
              "        }\n",
              "      </script>\n",
              "    </div>\n",
              "  </div>\n",
              "  "
            ]
          },
          "metadata": {},
          "execution_count": 67
        }
      ]
    },
    {
      "cell_type": "code",
      "source": [
        "#Polynomail Regression model have the best results"
      ],
      "metadata": {
        "id": "PKuGVOdigqk8"
      },
      "execution_count": 68,
      "outputs": []
    }
  ]
}